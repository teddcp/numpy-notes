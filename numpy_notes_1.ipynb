{
  "nbformat": 4,
  "nbformat_minor": 0,
  "metadata": {
    "kernelspec": {
      "display_name": "Python 3",
      "language": "python",
      "name": "python3"
    },
    "language_info": {
      "codemirror_mode": {
        "name": "ipython",
        "version": 3
      },
      "file_extension": ".py",
      "mimetype": "text/x-python",
      "name": "python",
      "nbconvert_exporter": "python",
      "pygments_lexer": "ipython3",
      "version": "3.7.6"
    },
    "colab": {
      "name": "numpy notes-1.ipynb",
      "provenance": [],
      "include_colab_link": true
    }
  },
  "cells": [
    {
      "cell_type": "markdown",
      "metadata": {
        "id": "view-in-github",
        "colab_type": "text"
      },
      "source": [
        "<a href=\"https://colab.research.google.com/github/teddcp/numpy-notes/blob/master/numpy_notes_1.ipynb\" target=\"_parent\"><img src=\"https://colab.research.google.com/assets/colab-badge.svg\" alt=\"Open In Colab\"/></a>"
      ]
    },
    {
      "cell_type": "markdown",
      "metadata": {
        "id": "ZvTPrNXxDX09",
        "colab_type": "text"
      },
      "source": [
        "numpy\n",
        "\n",
        "****numpy vs lists {PENDING}**********\n",
        "\n",
        "https://webcourses.ucf.edu/courses/1249560/pages/python-lists-vs-numpy-arrays-what-is-the-difference\n",
        "\n",
        "https://www.datadiscuss.com/proof-that-numpy-is-much-faster-than-normal-python-array/\n",
        "\n",
        "https://medium.com/@gough.cory/performance-of-numpy-array-vs-python-list-194c8e283b65\n",
        "\n",
        "https://medium.com/@z.arderne/numpy-array-vs-nested-list-622b95d12761\n",
        "\n",
        "https://stackoverflow.com/q/993984/12210002\n",
        "\n",
        "https://stackoverflow.com/q/8385602/12210002\n",
        "\n",
        "https://stackoverflow.com/q/46860970/12210002\n",
        "basic\n",
        "===========\n",
        "\n",
        "Attribute\tDescription\n",
        "\n",
        "1. Shape\tA tuple that specifies the number of elements for each dimension of the      array.\n",
        "2. Size The total number elements in the array.\n",
        "3. Ndim\tDetermines the dimension an array.\n",
        "4. nbytes\tNumber of bytes used to store the data.\n",
        "5. dtype\tDetermines the datatype of elements stored in array.\n",
        "\n",
        "=============================\n",
        "\n",
        "1. ndim\n",
        "    In NumPy the number of dimensions is referred to as rank. The ndim is the same as the number of axes or the length of the output of x.shape.\n",
        "    \n",
        "2. shape\n",
        "    For a 1D array, the shape would be (n,) where n is the number of elements in your array.For a 2D array, the shape would be (n,m) where n is the number of rows and m is the number of columns in your array.\n",
        "    \n",
        "    https://stackoverflow.com/a/47564593/12210002\n",
        "    \n",
        "    https://stackoverflow.com/q/22053050/12210002\n",
        "\n",
        "        This is to follow the convention that:\n",
        "\n",
        "        For 1D array, return a shape tuple with only 1 element (i.e. (n,))\n",
        "        For 2D array, return a shape tuple with only 2 elements (i.e. (n,m))\n",
        "        For 3D array, return a shape tuple with only 3 elements (i.e. (n,m,k))\n",
        "        For 4D array, return a shape tuple with only 4 elements (i.e. (n,m,k,j))\n",
        "        \n",
        "3. rehshape vs resize \n",
        "    The resize() method modifies existing shape and array itself while The reshape () method modifies existing shape but original array remains unchanged.\n",
        "\n",
        "    https://stackoverflow.com/a/41518430/12210002\n",
        "    \n",
        "4. Meaning of axis in pandas\n",
        "\n",
        "    https://stackoverflow.com/q/22149584/12210002\n",
        "    \n",
        "    https://stackoverflow.com/q/19389910/12210002\n",
        "    \n",
        "    https://www.sharpsightlabs.com/blog/numpy-axes-explained/"
      ]
    },
    {
      "cell_type": "markdown",
      "metadata": {
        "id": "gGHSzdEVDX1B",
        "colab_type": "text"
      },
      "source": [
        "# why numpy\n",
        "===================\n",
        "\n",
        "1. Vectoriztion and broadcasting <a href='https://jakevdp.github.io/PythonDataScienceHandbook/02.05-computation-on-arrays-broadcasting.html'> here</a> and <a href='https://simpleprogrammer.com/vectorization-and-broadcasting/' >here</a>\n",
        "\n",
        "2. written in c\n",
        "\n",
        "3. "
      ]
    },
    {
      "cell_type": "markdown",
      "metadata": {
        "id": "WmUl9ZFSDX1E",
        "colab_type": "text"
      },
      "source": [
        "![Axis](https://www.awesomegrasp.com/wp-content/uploads/2019/10/python-array-and-axis-e1570454038223-768x405.png)\n",
        "![visulization](visualization.png)"
      ]
    },
    {
      "cell_type": "code",
      "metadata": {
        "id": "NHFyI9epDX1G",
        "colab_type": "code",
        "colab": {}
      },
      "source": [
        "import numpy as np"
      ],
      "execution_count": 0,
      "outputs": []
    },
    {
      "cell_type": "code",
      "metadata": {
        "id": "IMwnm4ZEDX1S",
        "colab_type": "code",
        "outputId": "82c4913e-7749-4df9-c80c-72cc02af4af4",
        "colab": {}
      },
      "source": [
        "#creating 1-d\n",
        "a=np.array([1,2,3])\n",
        "a"
      ],
      "execution_count": 0,
      "outputs": [
        {
          "output_type": "execute_result",
          "data": {
            "text/plain": [
              "array([1, 2, 3])"
            ]
          },
          "metadata": {
            "tags": []
          },
          "execution_count": 2
        }
      ]
    },
    {
      "cell_type": "code",
      "metadata": {
        "id": "Hciwy8GJDX1e",
        "colab_type": "code",
        "outputId": "cacdce66-fd76-42e9-ee36-cae45248ba48",
        "colab": {}
      },
      "source": [
        "print(a)"
      ],
      "execution_count": 0,
      "outputs": [
        {
          "output_type": "stream",
          "text": [
            "[1 2 3]\n"
          ],
          "name": "stdout"
        }
      ]
    },
    {
      "cell_type": "code",
      "metadata": {
        "id": "-UrcPIo9DX1p",
        "colab_type": "code",
        "outputId": "645b3634-dd80-4a57-9885-af0eb0620749",
        "colab": {}
      },
      "source": [
        "#creating 2-d\n",
        "b=np.array([[1,2,3,4],[5,6,7,8],[9,10,11,111]])\n",
        "print(b)"
      ],
      "execution_count": 0,
      "outputs": [
        {
          "output_type": "stream",
          "text": [
            "[[  1   2   3   4]\n",
            " [  5   6   7   8]\n",
            " [  9  10  11 111]]\n"
          ],
          "name": "stdout"
        }
      ]
    },
    {
      "cell_type": "code",
      "metadata": {
        "id": "iU7roW3YDX1z",
        "colab_type": "code",
        "outputId": "dc880b03-eeb7-4cd3-9f16-9c9a5e0db3e9",
        "colab": {}
      },
      "source": [
        "c=np.array([ [\n",
        "              [1,2,3,4],\n",
        "              [5,6,7,8],\n",
        "              [9,10,11,111]\n",
        "             ],\n",
        "            [\n",
        "                [4,3,1,2],\n",
        "                [1,2,2,3],\n",
        "                [9,0,7,8]\n",
        "            ]\n",
        "           ])\n",
        "print(c)"
      ],
      "execution_count": 0,
      "outputs": [
        {
          "output_type": "stream",
          "text": [
            "[[[  1   2   3   4]\n",
            "  [  5   6   7   8]\n",
            "  [  9  10  11 111]]\n",
            "\n",
            " [[  4   3   1   2]\n",
            "  [  1   2   2   3]\n",
            "  [  9   0   7   8]]]\n"
          ],
          "name": "stdout"
        }
      ]
    },
    {
      "cell_type": "markdown",
      "metadata": {
        "id": "u02HOaBxDX17",
        "colab_type": "text"
      },
      "source": [
        "1.Getting the shape\n",
        "========================"
      ]
    },
    {
      "cell_type": "markdown",
      "metadata": {
        "id": "6z9PGgOiDxhQ",
        "colab_type": "text"
      },
      "source": [
        "\n",
        "1. shape : array.shape\n",
        "2. dimension : array.ndim\n",
        "3. size : array.Size\n",
        "4. datatype: array.dtype\n",
        "5. nbytes : array.nbytes\n",
        "\n",
        "for **1-dim, shape returns the length of array as tuple"
      ]
    },
    {
      "cell_type": "code",
      "metadata": {
        "id": "jU8meqyxDX19",
        "colab_type": "code",
        "outputId": "b3f64c0c-71ef-470a-cb37-821bb0917419",
        "colab": {}
      },
      "source": [
        "print(a.shape,b.shape,c.shape)\n",
        "\n",
        "#for 1-dim, shape returns the length of array as tuple"
      ],
      "execution_count": 0,
      "outputs": [
        {
          "output_type": "stream",
          "text": [
            "(3,) (3, 4) (2, 3, 4)\n"
          ],
          "name": "stdout"
        }
      ]
    },
    {
      "cell_type": "markdown",
      "metadata": {
        "id": "WtRpDAvRDX2G",
        "colab_type": "text"
      },
      "source": [
        "2.Getting the ndim\n",
        "============================="
      ]
    },
    {
      "cell_type": "code",
      "metadata": {
        "id": "LzJt7roNDX2I",
        "colab_type": "code",
        "outputId": "606b0592-b706-4194-e778-80060c0a70f6",
        "colab": {}
      },
      "source": [
        "#get the dimension  : ndim returns the length of shape\n",
        "print(a.ndim,b.ndim,c.ndim)"
      ],
      "execution_count": 0,
      "outputs": [
        {
          "output_type": "stream",
          "text": [
            "1 2 3\n"
          ],
          "name": "stdout"
        }
      ]
    },
    {
      "cell_type": "markdown",
      "metadata": {
        "id": "rGHP8KuZDX2Q",
        "colab_type": "text"
      },
      "source": [
        "3.reshape vs resize\n",
        "======================"
      ]
    },
    {
      "cell_type": "code",
      "metadata": {
        "id": "Va4wNXK6DX2R",
        "colab_type": "code",
        "outputId": "09209552-8f83-4025-9de0-f01d7665502f",
        "colab": {}
      },
      "source": [
        "#reshape does not change the original array\n",
        "c.reshape(4,6)"
      ],
      "execution_count": 0,
      "outputs": [
        {
          "output_type": "execute_result",
          "data": {
            "text/plain": [
              "array([[  1,   2,   3,   4,   5,   6],\n",
              "       [  7,   8,   9,  10,  11, 111],\n",
              "       [  4,   3,   1,   2,   1,   2],\n",
              "       [  2,   3,   9,   0,   7,   8]])"
            ]
          },
          "metadata": {
            "tags": []
          },
          "execution_count": 8
        }
      ]
    },
    {
      "cell_type": "code",
      "metadata": {
        "id": "4BaevLWFDX2Z",
        "colab_type": "code",
        "outputId": "2a106c8a-bc90-4609-9f18-d545b3ce2d11",
        "colab": {}
      },
      "source": [
        "c   #did not change"
      ],
      "execution_count": 0,
      "outputs": [
        {
          "output_type": "execute_result",
          "data": {
            "text/plain": [
              "array([[[  1,   2,   3,   4],\n",
              "        [  5,   6,   7,   8],\n",
              "        [  9,  10,  11, 111]],\n",
              "\n",
              "       [[  4,   3,   1,   2],\n",
              "        [  1,   2,   2,   3],\n",
              "        [  9,   0,   7,   8]]])"
            ]
          },
          "metadata": {
            "tags": []
          },
          "execution_count": 9
        }
      ]
    },
    {
      "cell_type": "code",
      "metadata": {
        "id": "7AWmbufKDX2g",
        "colab_type": "code",
        "colab": {}
      },
      "source": [
        "#but resize does\n",
        "c.resize(4,6)"
      ],
      "execution_count": 0,
      "outputs": []
    },
    {
      "cell_type": "code",
      "metadata": {
        "id": "k5-bj0hXDX2r",
        "colab_type": "code",
        "outputId": "7061075f-5031-4479-b3b4-119ebf372771",
        "colab": {}
      },
      "source": [
        "c  #chnaged.."
      ],
      "execution_count": 0,
      "outputs": [
        {
          "output_type": "execute_result",
          "data": {
            "text/plain": [
              "array([[  1,   2,   3,   4,   5,   6],\n",
              "       [  7,   8,   9,  10,  11, 111],\n",
              "       [  4,   3,   1,   2,   1,   2],\n",
              "       [  2,   3,   9,   0,   7,   8]])"
            ]
          },
          "metadata": {
            "tags": []
          },
          "execution_count": 11
        }
      ]
    },
    {
      "cell_type": "markdown",
      "metadata": {
        "id": "8LF2DK2jDX2z",
        "colab_type": "text"
      },
      "source": [
        "4.Transforming list/tuple to numpy array\n",
        "==============================================="
      ]
    },
    {
      "cell_type": "code",
      "metadata": {
        "id": "YJD7ZrvBDX21",
        "colab_type": "code",
        "outputId": "f957e193-110a-4278-fd9b-164327817db2",
        "colab": {}
      },
      "source": [
        "np.array([1,23])         ##transforming list to arrray"
      ],
      "execution_count": 0,
      "outputs": [
        {
          "output_type": "execute_result",
          "data": {
            "text/plain": [
              "array([ 1, 23])"
            ]
          },
          "metadata": {
            "tags": []
          },
          "execution_count": 12
        }
      ]
    },
    {
      "cell_type": "code",
      "metadata": {
        "id": "4D1mo3PfDX27",
        "colab_type": "code",
        "outputId": "ccdeece2-b302-4e9e-a85d-65e6af9fe28a",
        "colab": {}
      },
      "source": [
        "type(np.array( (2,3,4) )) #transforming tuple to arrray"
      ],
      "execution_count": 0,
      "outputs": [
        {
          "output_type": "execute_result",
          "data": {
            "text/plain": [
              "numpy.ndarray"
            ]
          },
          "metadata": {
            "tags": []
          },
          "execution_count": 13
        }
      ]
    },
    {
      "cell_type": "markdown",
      "metadata": {
        "id": "2Xg1NxPZDX3A",
        "colab_type": "text"
      },
      "source": [
        "5.setting the datatype or changing it\n",
        "============"
      ]
    },
    {
      "cell_type": "code",
      "metadata": {
        "id": "Htmzfvj1DX3B",
        "colab_type": "code",
        "outputId": "b0f4b662-0490-461d-9531-b33c91dac775",
        "colab": {}
      },
      "source": [
        "a.dtype"
      ],
      "execution_count": 0,
      "outputs": [
        {
          "output_type": "execute_result",
          "data": {
            "text/plain": [
              "dtype('int32')"
            ]
          },
          "metadata": {
            "tags": []
          },
          "execution_count": 14
        }
      ]
    },
    {
      "cell_type": "markdown",
      "metadata": {
        "id": "NX_uZRn1DX3F",
        "colab_type": "text"
      },
      "source": [
        "6.Accessing/Changing Specific elements\n",
        "=========================================================="
      ]
    },
    {
      "cell_type": "code",
      "metadata": {
        "id": "HDY6jtQ5DX3H",
        "colab_type": "code",
        "outputId": "b556d6ed-21b4-429d-eba7-e972a439d198",
        "colab": {}
      },
      "source": [
        "print(b)"
      ],
      "execution_count": 0,
      "outputs": [
        {
          "output_type": "stream",
          "text": [
            "[[  1   2   3   4]\n",
            " [  5   6   7   8]\n",
            " [  9  10  11 111]]\n"
          ],
          "name": "stdout"
        }
      ]
    },
    {
      "cell_type": "code",
      "metadata": {
        "id": "PlHiyo06DX3U",
        "colab_type": "code",
        "outputId": "e89e68a1-2484-4fcf-cd00-9949f2948800",
        "colab": {}
      },
      "source": [
        "# we can access it by [r,c] or [r][c]\n",
        "b[1,1]"
      ],
      "execution_count": 0,
      "outputs": [
        {
          "output_type": "execute_result",
          "data": {
            "text/plain": [
              "6"
            ]
          },
          "metadata": {
            "tags": []
          },
          "execution_count": 16
        }
      ]
    },
    {
      "cell_type": "code",
      "metadata": {
        "id": "Hpw3gVihDX3b",
        "colab_type": "code",
        "outputId": "dd33bc3e-d266-489f-90e1-033d5423decb",
        "colab": {}
      },
      "source": [
        "b[1][1]"
      ],
      "execution_count": 0,
      "outputs": [
        {
          "output_type": "execute_result",
          "data": {
            "text/plain": [
              "6"
            ]
          },
          "metadata": {
            "tags": []
          },
          "execution_count": 17
        }
      ]
    },
    {
      "cell_type": "code",
      "metadata": {
        "id": "Noj4tdE9DX3i",
        "colab_type": "code",
        "outputId": "2ff81c5b-4dd6-4bcc-ec6c-d50e72090719",
        "colab": {}
      },
      "source": [
        "#accessing entire row/column -> a[:,c] /a[r,:]\n",
        "print(b[1,:],b[:,1])"
      ],
      "execution_count": 0,
      "outputs": [
        {
          "output_type": "stream",
          "text": [
            "[5 6 7 8] [ 2  6 10]\n"
          ],
          "name": "stdout"
        }
      ]
    },
    {
      "cell_type": "code",
      "metadata": {
        "id": "RCAXejytDX3o",
        "colab_type": "code",
        "outputId": "db5b783c-380c-4150-c0f2-198173e1096c",
        "colab": {}
      },
      "source": [
        "#accesing entire row with step size   [startindex:endindex:stepsize]\n",
        "print(b[2,0:-1:2])"
      ],
      "execution_count": 0,
      "outputs": [
        {
          "output_type": "stream",
          "text": [
            "[ 9 11]\n"
          ],
          "name": "stdout"
        }
      ]
    },
    {
      "cell_type": "code",
      "metadata": {
        "id": "AyvEfUdeDX3u",
        "colab_type": "code",
        "outputId": "1b45d442-9664-4bf5-b046-54cf59266b64",
        "colab": {}
      },
      "source": [
        "#changing\n",
        "b[1,2]=200\n",
        "print(b)"
      ],
      "execution_count": 0,
      "outputs": [
        {
          "output_type": "stream",
          "text": [
            "[[  1   2   3   4]\n",
            " [  5   6 200   8]\n",
            " [  9  10  11 111]]\n"
          ],
          "name": "stdout"
        }
      ]
    },
    {
      "cell_type": "markdown",
      "metadata": {
        "id": "AF5VOdTQDX31",
        "colab_type": "text"
      },
      "source": [
        "**** now checking 3-d ****"
      ]
    },
    {
      "cell_type": "code",
      "metadata": {
        "id": "t-VX_RmUDX32",
        "colab_type": "code",
        "outputId": "6b620b30-3f59-4493-e90c-8f3c81227696",
        "colab": {}
      },
      "source": [
        "c.resize(2,3,4)  #changing back to 3-d\n",
        "print( c,'\\n\\n', str(c.ndim)+ ' dimensional')"
      ],
      "execution_count": 0,
      "outputs": [
        {
          "output_type": "stream",
          "text": [
            "[[[  1   2   3   4]\n",
            "  [  5   6   7   8]\n",
            "  [  9  10  11 111]]\n",
            "\n",
            " [[  4   3   1   2]\n",
            "  [  1   2   2   3]\n",
            "  [  9   0   7   8]]] \n",
            "\n",
            " 3 dimensional\n"
          ],
          "name": "stdout"
        }
      ]
    },
    {
      "cell_type": "code",
      "metadata": {
        "id": "05atMLe6DX39",
        "colab_type": "code",
        "outputId": "7395bcf0-cd4b-49da-d038-49c6f706c9e3",
        "colab": {}
      },
      "source": [
        "#accessing elements\n",
        "c[1,0,1]"
      ],
      "execution_count": 0,
      "outputs": [
        {
          "output_type": "execute_result",
          "data": {
            "text/plain": [
              "3"
            ]
          },
          "metadata": {
            "tags": []
          },
          "execution_count": 22
        }
      ]
    },
    {
      "cell_type": "code",
      "metadata": {
        "id": "pOv5cT1qDX4E",
        "colab_type": "code",
        "outputId": "a0283cb4-9cef-4346-bc5b-d42eb85b91c8",
        "colab": {}
      },
      "source": [
        "#getting entire row\n",
        "c[0,1,:]"
      ],
      "execution_count": 0,
      "outputs": [
        {
          "output_type": "execute_result",
          "data": {
            "text/plain": [
              "array([5, 6, 7, 8])"
            ]
          },
          "metadata": {
            "tags": []
          },
          "execution_count": 23
        }
      ]
    },
    {
      "cell_type": "code",
      "metadata": {
        "id": "PDw-PHfSDX4P",
        "colab_type": "code",
        "outputId": "ed794081-d295-4e85-c869-254f219748d3",
        "colab": {}
      },
      "source": [
        "#getting entire column\n",
        "c[1,:,2]"
      ],
      "execution_count": 0,
      "outputs": [
        {
          "output_type": "execute_result",
          "data": {
            "text/plain": [
              "array([1, 2, 7])"
            ]
          },
          "metadata": {
            "tags": []
          },
          "execution_count": 24
        }
      ]
    },
    {
      "cell_type": "code",
      "metadata": {
        "id": "Q-J62vRYDX4V",
        "colab_type": "code",
        "outputId": "aff6ee89-d548-4b8a-c7df-d02c6657d782",
        "colab": {}
      },
      "source": [
        "#now with step size\n",
        "c[1,1,0:-1:2]"
      ],
      "execution_count": 0,
      "outputs": [
        {
          "output_type": "execute_result",
          "data": {
            "text/plain": [
              "array([1, 2])"
            ]
          },
          "metadata": {
            "tags": []
          },
          "execution_count": 25
        }
      ]
    },
    {
      "cell_type": "markdown",
      "metadata": {
        "id": "obc_A_b-DX4a",
        "colab_type": "text"
      },
      "source": [
        "7.Initializing different types of arrays\n",
        "=====================================\n",
        "\n",
        "https://docs.scipy.org/doc/numpy/reference/routines.array-creation.html\n",
        "\n",
        "1.  **Zeros and Zeros_like**"
      ]
    },
    {
      "cell_type": "code",
      "metadata": {
        "id": "3DwU_4I0DX4a",
        "colab_type": "code",
        "outputId": "a56dd66e-6983-4b49-e188-18bc4143faf9",
        "colab": {}
      },
      "source": [
        "#All 0's Matrix\n",
        "np.zeros((3,3))  #we have to pass the shape parameter"
      ],
      "execution_count": 0,
      "outputs": [
        {
          "output_type": "execute_result",
          "data": {
            "text/plain": [
              "array([[0., 0., 0.],\n",
              "       [0., 0., 0.],\n",
              "       [0., 0., 0.]])"
            ]
          },
          "metadata": {
            "tags": []
          },
          "execution_count": 26
        }
      ]
    },
    {
      "cell_type": "code",
      "metadata": {
        "id": "jxkR3eyqDX4g",
        "colab_type": "code",
        "outputId": "9717212d-77b8-41b3-e084-9ec61ccd2bb1",
        "colab": {}
      },
      "source": [
        "np.zeros( (3,3) , dtype='int32')  #we convert the data to int "
      ],
      "execution_count": 0,
      "outputs": [
        {
          "output_type": "execute_result",
          "data": {
            "text/plain": [
              "array([[0, 0, 0],\n",
              "       [0, 0, 0],\n",
              "       [0, 0, 0]])"
            ]
          },
          "metadata": {
            "tags": []
          },
          "execution_count": 27
        }
      ]
    },
    {
      "cell_type": "code",
      "metadata": {
        "id": "pMzVSNpxDX4v",
        "colab_type": "code",
        "outputId": "7fefc5c6-7d68-4456-c486-f72315fcfa89",
        "colab": {}
      },
      "source": [
        "np.zeros_like(b)  #like just takes nd-array and creates a similar array"
      ],
      "execution_count": 0,
      "outputs": [
        {
          "output_type": "execute_result",
          "data": {
            "text/plain": [
              "array([[0, 0, 0, 0],\n",
              "       [0, 0, 0, 0],\n",
              "       [0, 0, 0, 0]])"
            ]
          },
          "metadata": {
            "tags": []
          },
          "execution_count": 28
        }
      ]
    },
    {
      "cell_type": "markdown",
      "metadata": {
        "id": "PtX37bsmDX4_",
        "colab_type": "text"
      },
      "source": [
        "**ones and ones_like**"
      ]
    },
    {
      "cell_type": "code",
      "metadata": {
        "id": "EzchYvCEDX5A",
        "colab_type": "code",
        "outputId": "c0044c25-0358-4461-e3d7-8963d507273c",
        "colab": {}
      },
      "source": [
        "np.ones((3,3), dtype='int32')   #creating array on the fly"
      ],
      "execution_count": 0,
      "outputs": [
        {
          "output_type": "execute_result",
          "data": {
            "text/plain": [
              "array([[1, 1, 1],\n",
              "       [1, 1, 1],\n",
              "       [1, 1, 1]])"
            ]
          },
          "metadata": {
            "tags": []
          },
          "execution_count": 29
        }
      ]
    },
    {
      "cell_type": "code",
      "metadata": {
        "id": "STaDwAq8DX5H",
        "colab_type": "code",
        "outputId": "f3f4f463-54cf-48b5-c732-295791349113",
        "colab": {}
      },
      "source": [
        "np.ones_like(a, dtype='int32')   #creating another array taking reference"
      ],
      "execution_count": 0,
      "outputs": [
        {
          "output_type": "execute_result",
          "data": {
            "text/plain": [
              "array([1, 1, 1])"
            ]
          },
          "metadata": {
            "tags": []
          },
          "execution_count": 30
        }
      ]
    },
    {
      "cell_type": "markdown",
      "metadata": {
        "id": "LgdG5c3bDX5N",
        "colab_type": "text"
      },
      "source": [
        "**full and full_like**"
      ]
    },
    {
      "cell_type": "code",
      "metadata": {
        "id": "eOWkE-HyDX5O",
        "colab_type": "code",
        "outputId": "59ca843f-f244-49e2-8f6a-c29fa39b713d",
        "colab": {}
      },
      "source": [
        "np.full((3,3) ,100)"
      ],
      "execution_count": 0,
      "outputs": [
        {
          "output_type": "execute_result",
          "data": {
            "text/plain": [
              "array([[100, 100, 100],\n",
              "       [100, 100, 100],\n",
              "       [100, 100, 100]])"
            ]
          },
          "metadata": {
            "tags": []
          },
          "execution_count": 31
        }
      ]
    },
    {
      "cell_type": "code",
      "metadata": {
        "id": "865F8rUsDX5c",
        "colab_type": "code",
        "outputId": "bf3362eb-0dd3-4a17-eecf-65375fa9776d",
        "colab": {}
      },
      "source": [
        "np.full_like(c ,100)"
      ],
      "execution_count": 0,
      "outputs": [
        {
          "output_type": "execute_result",
          "data": {
            "text/plain": [
              "array([[[100, 100, 100, 100],\n",
              "        [100, 100, 100, 100],\n",
              "        [100, 100, 100, 100]],\n",
              "\n",
              "       [[100, 100, 100, 100],\n",
              "        [100, 100, 100, 100],\n",
              "        [100, 100, 100, 100]]])"
            ]
          },
          "metadata": {
            "tags": []
          },
          "execution_count": 32
        }
      ]
    },
    {
      "cell_type": "markdown",
      "metadata": {
        "id": "VNqirLDQDX5t",
        "colab_type": "text"
      },
      "source": [
        "**Identity Matrix**"
      ]
    },
    {
      "cell_type": "code",
      "metadata": {
        "id": "VWvamGTiDX5w",
        "colab_type": "code",
        "outputId": "7aa39067-5aec-4843-90da-adc071b77f69",
        "colab": {}
      },
      "source": [
        "np.identity(3)"
      ],
      "execution_count": 0,
      "outputs": [
        {
          "output_type": "execute_result",
          "data": {
            "text/plain": [
              "array([[1., 0., 0.],\n",
              "       [0., 1., 0.],\n",
              "       [0., 0., 1.]])"
            ]
          },
          "metadata": {
            "tags": []
          },
          "execution_count": 33
        }
      ]
    },
    {
      "cell_type": "markdown",
      "metadata": {
        "id": "P9_vrttrDX5_",
        "colab_type": "text"
      },
      "source": [
        "**Random arrays** <a href ='https://stackoverflow.com/a/56829859/12210002'>rand vs randn </a>"
      ]
    },
    {
      "cell_type": "code",
      "metadata": {
        "id": "MZqvvug4DX6B",
        "colab_type": "code",
        "outputId": "5ef0568a-8d9c-4a99-d09d-38ce84e48bd6",
        "colab": {}
      },
      "source": [
        "np.random.rand(2,3)   # 2rows and 3 columns"
      ],
      "execution_count": 0,
      "outputs": [
        {
          "output_type": "execute_result",
          "data": {
            "text/plain": [
              "array([[0.75158989, 0.64865759, 0.115446  ],\n",
              "       [0.50550506, 0.61041103, 0.48086683]])"
            ]
          },
          "metadata": {
            "tags": []
          },
          "execution_count": 34
        }
      ]
    },
    {
      "cell_type": "code",
      "metadata": {
        "id": "miYUnCaCDX6O",
        "colab_type": "code",
        "outputId": "62583498-65d5-4519-e3a1-9521c5e7a655",
        "colab": {}
      },
      "source": [
        "np.random.randint(-4,7,(3,2))   #start,end,size=(a,b)  #a row and b columns"
      ],
      "execution_count": 0,
      "outputs": [
        {
          "output_type": "execute_result",
          "data": {
            "text/plain": [
              "array([[4, 2],\n",
              "       [6, 4],\n",
              "       [1, 1]])"
            ]
          },
          "metadata": {
            "tags": []
          },
          "execution_count": 35
        }
      ]
    },
    {
      "cell_type": "markdown",
      "metadata": {
        "id": "YX4baP2qDX6Z",
        "colab_type": "text"
      },
      "source": [
        "**Arraning Array**\n",
        "\n",
        "The arange() function creates an array with evenly spaced values between the specified start, end, and increment values."
      ]
    },
    {
      "cell_type": "code",
      "metadata": {
        "id": "E-d0ZJR0DX6a",
        "colab_type": "code",
        "outputId": "eda5725b-bdc0-42f7-8b39-ed48e5908691",
        "colab": {}
      },
      "source": [
        "array1d = np.arange(5)  # 1 row and 5 columns\n",
        "print(array1d)\n",
        " \n",
        "array1d = np.arange(0, 12, 2)  # 1 row and 6 columns\n",
        "print(array1d)\n",
        " \n",
        "array2d = np.arange(0, 12, 2).reshape(2, 3)  # 2 rows 3 columns\n",
        "print(array2d)\n",
        " \n",
        "array3d = np.arange(9).reshape(3, 3)  # 3 rows and columns\n",
        "print(array3d)"
      ],
      "execution_count": 0,
      "outputs": [
        {
          "output_type": "stream",
          "text": [
            "[0 1 2 3 4]\n",
            "[ 0  2  4  6  8 10]\n",
            "[[ 0  2  4]\n",
            " [ 6  8 10]]\n",
            "[[0 1 2]\n",
            " [3 4 5]\n",
            " [6 7 8]]\n"
          ],
          "name": "stdout"
        }
      ]
    },
    {
      "cell_type": "markdown",
      "metadata": {
        "id": "p8bjPR-3DX6r",
        "colab_type": "text"
      },
      "source": [
        "**Repeating an array**"
      ]
    },
    {
      "cell_type": "code",
      "metadata": {
        "id": "ZlugfY0JDX6u",
        "colab_type": "code",
        "outputId": "91956762-fae7-47cd-a0c7-ac35c9b2dcec",
        "colab": {}
      },
      "source": [
        "a"
      ],
      "execution_count": 0,
      "outputs": [
        {
          "output_type": "execute_result",
          "data": {
            "text/plain": [
              "array([1, 2, 3])"
            ]
          },
          "metadata": {
            "tags": []
          },
          "execution_count": 37
        }
      ]
    },
    {
      "cell_type": "code",
      "metadata": {
        "id": "sAtZ0TtjDX64",
        "colab_type": "code",
        "outputId": "b6cf907d-8c99-4c88-c9a6-1623e535a0d0",
        "colab": {}
      },
      "source": [
        "np.repeat(a,5,axis=0)   #array,number_of_times,axis-type"
      ],
      "execution_count": 0,
      "outputs": [
        {
          "output_type": "execute_result",
          "data": {
            "text/plain": [
              "array([1, 1, 1, 1, 1, 2, 2, 2, 2, 2, 3, 3, 3, 3, 3])"
            ]
          },
          "metadata": {
            "tags": []
          },
          "execution_count": 38
        }
      ]
    },
    {
      "cell_type": "code",
      "metadata": {
        "id": "3NRAI7xrDX7B",
        "colab_type": "code",
        "outputId": "06c1781c-f310-4e57-b143-045836c7c345",
        "colab": {}
      },
      "source": [
        "b"
      ],
      "execution_count": 0,
      "outputs": [
        {
          "output_type": "execute_result",
          "data": {
            "text/plain": [
              "array([[  1,   2,   3,   4],\n",
              "       [  5,   6, 200,   8],\n",
              "       [  9,  10,  11, 111]])"
            ]
          },
          "metadata": {
            "tags": []
          },
          "execution_count": 39
        }
      ]
    },
    {
      "cell_type": "code",
      "metadata": {
        "id": "JL_eIxMiDX7J",
        "colab_type": "code",
        "outputId": "27d496fe-6a5f-43ba-8f03-4cb5fa13f68f",
        "colab": {}
      },
      "source": [
        "np.repeat(b,2,axis=1)"
      ],
      "execution_count": 0,
      "outputs": [
        {
          "output_type": "execute_result",
          "data": {
            "text/plain": [
              "array([[  1,   1,   2,   2,   3,   3,   4,   4],\n",
              "       [  5,   5,   6,   6, 200, 200,   8,   8],\n",
              "       [  9,   9,  10,  10,  11,  11, 111, 111]])"
            ]
          },
          "metadata": {
            "tags": []
          },
          "execution_count": 40
        }
      ]
    },
    {
      "cell_type": "code",
      "metadata": {
        "id": "m1HmWWiRDX7N",
        "colab_type": "code",
        "outputId": "55caad00-b5d5-43fe-f3d4-aef8aefc772c",
        "colab": {}
      },
      "source": [
        "np.repeat(b,2,axis=0)"
      ],
      "execution_count": 0,
      "outputs": [
        {
          "output_type": "execute_result",
          "data": {
            "text/plain": [
              "array([[  1,   2,   3,   4],\n",
              "       [  1,   2,   3,   4],\n",
              "       [  5,   6, 200,   8],\n",
              "       [  5,   6, 200,   8],\n",
              "       [  9,  10,  11, 111],\n",
              "       [  9,  10,  11, 111]])"
            ]
          },
          "metadata": {
            "tags": []
          },
          "execution_count": 41
        }
      ]
    },
    {
      "cell_type": "code",
      "metadata": {
        "id": "X2ThH3HhDX7W",
        "colab_type": "code",
        "outputId": "343f9d98-8a0c-484a-d4a1-fd128a9ebb88",
        "colab": {}
      },
      "source": [
        "from IPython.display import Image\n",
        "Image('Capture.PNG')"
      ],
      "execution_count": 0,
      "outputs": [
        {
          "output_type": "execute_result",
          "data": {
            "image/png": "[encoded data removed]",
            "text/plain": [
              "<IPython.core.display.Image object>"
            ]
          },
          "metadata": {
            "tags": []
          },
          "execution_count": 42
        }
      ]
    },
    {
      "cell_type": "markdown",
      "metadata": {
        "id": "Ku64vu8PDX7b",
        "colab_type": "text"
      },
      "source": [
        "**Another way of importing image**"
      ]
    },
    {
      "cell_type": "markdown",
      "metadata": {
        "id": "rbqINLU_DX7c",
        "colab_type": "text"
      },
      "source": [
        "![title](Capture.png)"
      ]
    },
    {
      "cell_type": "code",
      "metadata": {
        "id": "ikYXPMmbDX7d",
        "colab_type": "code",
        "outputId": "fe8e91cd-3cd2-46bd-b470-b12f9f05c7cd",
        "colab": {}
      },
      "source": [
        "res=np.ones((5,5),dtype='int32')\n",
        "res[1:4,1:4]=np.zeros((3,3))\n",
        "res[2,2]=9\n",
        "print(res)"
      ],
      "execution_count": 0,
      "outputs": [
        {
          "output_type": "stream",
          "text": [
            "[[1 1 1 1 1]\n",
            " [1 0 0 0 1]\n",
            " [1 0 9 0 1]\n",
            " [1 0 0 0 1]\n",
            " [1 1 1 1 1]]\n"
          ],
          "name": "stdout"
        }
      ]
    },
    {
      "cell_type": "markdown",
      "metadata": {
        "id": "IlGK2hYzDX7m",
        "colab_type": "text"
      },
      "source": [
        "**Copying the array**\n",
        "============================"
      ]
    },
    {
      "cell_type": "code",
      "metadata": {
        "id": "7SHRxYedDX7o",
        "colab_type": "code",
        "outputId": "ccb8bf8c-293f-49b7-b0a9-651516a489de",
        "colab": {}
      },
      "source": [
        "new_one=a\n",
        "print(a,new_one)\n",
        "new_one[2]=4\n",
        "print(a,new_one)   #its just referencing the old array"
      ],
      "execution_count": 0,
      "outputs": [
        {
          "output_type": "stream",
          "text": [
            "[1 2 3] [1 2 3]\n",
            "[1 2 4] [1 2 4]\n"
          ],
          "name": "stdout"
        }
      ]
    },
    {
      "cell_type": "code",
      "metadata": {
        "id": "50dCATAvDX7t",
        "colab_type": "code",
        "outputId": "ddd44472-4124-4c34-ff7e-67a3294b542e",
        "colab": {}
      },
      "source": [
        "#we can use the copy method\n",
        "new_one=a.copy()\n",
        "new_one[2]=400\n",
        "print(a,new_one) "
      ],
      "execution_count": 0,
      "outputs": [
        {
          "output_type": "stream",
          "text": [
            "[1 2 4] [  1   2 400]\n"
          ],
          "name": "stdout"
        }
      ]
    },
    {
      "cell_type": "markdown",
      "metadata": {
        "id": "CzgBw61eDX7y",
        "colab_type": "text"
      },
      "source": [
        "Maths\n",
        "==========\n",
        "\n",
        "https://docs.scipy.org/doc/numpy/reference/routines.math.html"
      ]
    },
    {
      "cell_type": "code",
      "metadata": {
        "id": "7RDwB59MDX7z",
        "colab_type": "code",
        "outputId": "853762f5-7503-414e-eb09-7e79f8f90936",
        "colab": {}
      },
      "source": [
        "a"
      ],
      "execution_count": 0,
      "outputs": [
        {
          "output_type": "execute_result",
          "data": {
            "text/plain": [
              "array([1, 2, 4])"
            ]
          },
          "metadata": {
            "tags": []
          },
          "execution_count": 46
        }
      ]
    },
    {
      "cell_type": "code",
      "metadata": {
        "id": "0cUQQEcJDX75",
        "colab_type": "code",
        "outputId": "9994f6b5-eeab-470f-c754-49ee8b8b153b",
        "colab": {}
      },
      "source": [
        "print(a+2,a-1,a*2,a**2,a/2)"
      ],
      "execution_count": 0,
      "outputs": [
        {
          "output_type": "stream",
          "text": [
            "[3 4 6] [0 1 3] [2 4 8] [ 1  4 16] [0.5 1.  2. ]\n"
          ],
          "name": "stdout"
        }
      ]
    },
    {
      "cell_type": "code",
      "metadata": {
        "id": "4pIpMmq_DX8C",
        "colab_type": "code",
        "colab": {}
      },
      "source": [
        "new_res=a.copy()"
      ],
      "execution_count": 0,
      "outputs": []
    },
    {
      "cell_type": "code",
      "metadata": {
        "id": "NtnVWC8JDX8K",
        "colab_type": "code",
        "outputId": "ef48fd31-1d61-40a1-c5ce-d153db69e8c6",
        "colab": {}
      },
      "source": [
        "a+new_res"
      ],
      "execution_count": 0,
      "outputs": [
        {
          "output_type": "execute_result",
          "data": {
            "text/plain": [
              "array([2, 4, 8])"
            ]
          },
          "metadata": {
            "tags": []
          },
          "execution_count": 49
        }
      ]
    },
    {
      "cell_type": "code",
      "metadata": {
        "id": "O2_Uovo4DX8P",
        "colab_type": "code",
        "outputId": "5a819b8f-649f-4a5a-a390-2e3d9a04d59a",
        "colab": {}
      },
      "source": [
        "#Taking sin,cos\n",
        "print(np.sin(a),np.cos(a))"
      ],
      "execution_count": 0,
      "outputs": [
        {
          "output_type": "stream",
          "text": [
            "[ 0.84147098  0.90929743 -0.7568025 ] [ 0.54030231 -0.41614684 -0.65364362]\n"
          ],
          "name": "stdout"
        }
      ]
    },
    {
      "cell_type": "markdown",
      "metadata": {
        "id": "ON9ikGvTDX8Y",
        "colab_type": "text"
      },
      "source": [
        "Linear Algebra\n",
        "=======================\n",
        "\n",
        "dot product, vector product,matrix multipication,eigen value calculation etc\n",
        "\n",
        "https://docs.scipy.org/doc/numpy/reference/routines.linalg.html"
      ]
    },
    {
      "cell_type": "code",
      "metadata": {
        "id": "ZUW_SWRdDX8Z",
        "colab_type": "code",
        "outputId": "caf6a161-1a1e-47f1-b7cc-2a87cc632f34",
        "colab": {}
      },
      "source": [
        "# matrix multipication\n",
        "xx = np.ones((2,3))\n",
        "print(xx)\n",
        "\n",
        "yy = np.full((3,2), 2)\n",
        "print(yy)\n",
        "\n",
        "np.matmul(xx,yy)"
      ],
      "execution_count": 0,
      "outputs": [
        {
          "output_type": "stream",
          "text": [
            "[[1. 1. 1.]\n",
            " [1. 1. 1.]]\n",
            "[[2 2]\n",
            " [2 2]\n",
            " [2 2]]\n"
          ],
          "name": "stdout"
        },
        {
          "output_type": "execute_result",
          "data": {
            "text/plain": [
              "array([[6., 6.],\n",
              "       [6., 6.]])"
            ]
          },
          "metadata": {
            "tags": []
          },
          "execution_count": 51
        }
      ]
    },
    {
      "cell_type": "code",
      "metadata": {
        "id": "KshVBn5kDX8h",
        "colab_type": "code",
        "outputId": "2cddf9f1-c788-4fba-dbee-b32bd87cfde2",
        "colab": {}
      },
      "source": [
        "#find the determinat\n",
        "\n",
        "#derterminant of identity matrix is 1\n",
        "np.linalg.det(np.identity(2))"
      ],
      "execution_count": 0,
      "outputs": [
        {
          "output_type": "execute_result",
          "data": {
            "text/plain": [
              "1.0"
            ]
          },
          "metadata": {
            "tags": []
          },
          "execution_count": 52
        }
      ]
    },
    {
      "cell_type": "markdown",
      "metadata": {
        "id": "k-QTTo-uDX8l",
        "colab_type": "text"
      },
      "source": [
        "# Statistics"
      ]
    },
    {
      "cell_type": "code",
      "metadata": {
        "id": "mRNxylqYDX8m",
        "colab_type": "code",
        "outputId": "a45790f5-4fba-4d7a-ff7a-f68f92525dcf",
        "colab": {}
      },
      "source": [
        "stats = np.array([[11,112,53],[44,55,26]])\n",
        "stats"
      ],
      "execution_count": 0,
      "outputs": [
        {
          "output_type": "execute_result",
          "data": {
            "text/plain": [
              "array([[ 11, 112,  53],\n",
              "       [ 44,  55,  26]])"
            ]
          },
          "metadata": {
            "tags": []
          },
          "execution_count": 53
        }
      ]
    },
    {
      "cell_type": "code",
      "metadata": {
        "id": "xmZCsCpeDX8r",
        "colab_type": "code",
        "outputId": "bddcd634-0d49-461a-98cf-0dc8c9dc85a6",
        "colab": {}
      },
      "source": [
        "np.min(stats),np.argmin(stats)  #argmin is same as index of min elementt ..same for argmax..."
      ],
      "execution_count": 0,
      "outputs": [
        {
          "output_type": "execute_result",
          "data": {
            "text/plain": [
              "(11, 0)"
            ]
          },
          "metadata": {
            "tags": []
          },
          "execution_count": 80
        }
      ]
    },
    {
      "cell_type": "code",
      "metadata": {
        "id": "CNRkh_VzDX8y",
        "colab_type": "code",
        "outputId": "4a39a26f-a5bb-4eeb-8867-057a0433eb68",
        "colab": {}
      },
      "source": [
        "np.min(stats,axis=0)"
      ],
      "execution_count": 0,
      "outputs": [
        {
          "output_type": "execute_result",
          "data": {
            "text/plain": [
              "array([11, 55, 26])"
            ]
          },
          "metadata": {
            "tags": []
          },
          "execution_count": 55
        }
      ]
    },
    {
      "cell_type": "code",
      "metadata": {
        "id": "Z0LXZJNRDX8-",
        "colab_type": "code",
        "outputId": "03631d0c-3d96-42ca-f88d-634db6972eee",
        "colab": {}
      },
      "source": [
        "np.max(stats,axis=1)"
      ],
      "execution_count": 0,
      "outputs": [
        {
          "output_type": "execute_result",
          "data": {
            "text/plain": [
              "array([112,  55])"
            ]
          },
          "metadata": {
            "tags": []
          },
          "execution_count": 56
        }
      ]
    },
    {
      "cell_type": "code",
      "metadata": {
        "id": "UUWE9nMWDX9F",
        "colab_type": "code",
        "outputId": "b033219e-ad81-4bdf-f4fd-916aef57b3e7",
        "colab": {}
      },
      "source": [
        "np.sum(stats)"
      ],
      "execution_count": 0,
      "outputs": [
        {
          "output_type": "execute_result",
          "data": {
            "text/plain": [
              "301"
            ]
          },
          "metadata": {
            "tags": []
          },
          "execution_count": 57
        }
      ]
    },
    {
      "cell_type": "code",
      "metadata": {
        "id": "kIaCWtvEDX9K",
        "colab_type": "code",
        "outputId": "d22c2746-452e-410b-edca-b5d18c3e3b7e",
        "colab": {}
      },
      "source": [
        "np.sum(stats,axis=0)"
      ],
      "execution_count": 0,
      "outputs": [
        {
          "output_type": "execute_result",
          "data": {
            "text/plain": [
              "array([ 55, 167,  79])"
            ]
          },
          "metadata": {
            "tags": []
          },
          "execution_count": 58
        }
      ]
    },
    {
      "cell_type": "code",
      "metadata": {
        "id": "naw2NimsDX9P",
        "colab_type": "code",
        "outputId": "7b0530bb-9643-462d-f033-93753f823ec8",
        "colab": {}
      },
      "source": [
        "np.sum(stats,axis=1)"
      ],
      "execution_count": 0,
      "outputs": [
        {
          "output_type": "execute_result",
          "data": {
            "text/plain": [
              "array([176, 125])"
            ]
          },
          "metadata": {
            "tags": []
          },
          "execution_count": 59
        }
      ]
    },
    {
      "cell_type": "markdown",
      "metadata": {
        "id": "66wjWjRcDX9S",
        "colab_type": "text"
      },
      "source": [
        "Reorganizing Arrays\n",
        "========================\n",
        "\n",
        "**rehshape, resize, vstack, hstack, vsplit, hsplit**"
      ]
    },
    {
      "cell_type": "code",
      "metadata": {
        "id": "61bFP2oIDX9T",
        "colab_type": "code",
        "outputId": "084898fb-6f07-4651-b19a-fde903897085",
        "colab": {}
      },
      "source": [
        "# Vertically stacking vectors\n",
        "v1 = np.array([1,2,3,4])\n",
        "v2 = np.array([5,6,7,8])\n",
        "\n",
        "v3=np.vstack([v1,v2,v1,v2])\n",
        "print(v3)"
      ],
      "execution_count": 0,
      "outputs": [
        {
          "output_type": "stream",
          "text": [
            "[[1 2 3 4]\n",
            " [5 6 7 8]\n",
            " [1 2 3 4]\n",
            " [5 6 7 8]]\n"
          ],
          "name": "stdout"
        }
      ]
    },
    {
      "cell_type": "code",
      "metadata": {
        "id": "5cyi8RLeDX9X",
        "colab_type": "code",
        "outputId": "c81bd203-c427-41d9-be20-64e3698722bb",
        "colab": {}
      },
      "source": [
        "# Horizontal stack\n",
        "v1 = np.array([1,2,3,4])\n",
        "v2 = np.array([5,6,7,8])\n",
        "\n",
        "np.hstack([v1,v2,v1,v2])"
      ],
      "execution_count": 0,
      "outputs": [
        {
          "output_type": "execute_result",
          "data": {
            "text/plain": [
              "array([1, 2, 3, 4, 5, 6, 7, 8, 1, 2, 3, 4, 5, 6, 7, 8])"
            ]
          },
          "metadata": {
            "tags": []
          },
          "execution_count": 61
        }
      ]
    },
    {
      "cell_type": "code",
      "metadata": {
        "id": "BDSwyuehDX9d",
        "colab_type": "code",
        "outputId": "068f31ad-b7d8-4836-a4f2-7da580826ebf",
        "colab": {}
      },
      "source": [
        "# hprozontal  splitting\n",
        "print(np.hsplit(v3,2) )"
      ],
      "execution_count": 0,
      "outputs": [
        {
          "output_type": "stream",
          "text": [
            "[array([[1, 2],\n",
            "       [5, 6],\n",
            "       [1, 2],\n",
            "       [5, 6]]), array([[3, 4],\n",
            "       [7, 8],\n",
            "       [3, 4],\n",
            "       [7, 8]])]\n"
          ],
          "name": "stdout"
        }
      ]
    },
    {
      "cell_type": "code",
      "metadata": {
        "id": "_29-wphLDX9j",
        "colab_type": "code",
        "outputId": "5f483dd4-737f-4bff-a541-cf7a7d7b5973",
        "colab": {}
      },
      "source": [
        "#vertical splitting\n",
        "np.vsplit(v3,2)"
      ],
      "execution_count": 0,
      "outputs": [
        {
          "output_type": "execute_result",
          "data": {
            "text/plain": [
              "[array([[1, 2, 3, 4],\n",
              "        [5, 6, 7, 8]]),\n",
              " array([[1, 2, 3, 4],\n",
              "        [5, 6, 7, 8]])]"
            ]
          },
          "metadata": {
            "tags": []
          },
          "execution_count": 63
        }
      ]
    },
    {
      "cell_type": "code",
      "metadata": {
        "id": "XJ1yC7Y3DX9q",
        "colab_type": "code",
        "colab": {}
      },
      "source": [
        ""
      ],
      "execution_count": 0,
      "outputs": []
    },
    {
      "cell_type": "markdown",
      "metadata": {
        "id": "n9TUa4f4DX9v",
        "colab_type": "text"
      },
      "source": [
        "# Miscellaneous\n",
        "\n",
        "1. Load data from text file"
      ]
    },
    {
      "cell_type": "code",
      "metadata": {
        "id": "GCQHYjiXDX9w",
        "colab_type": "code",
        "outputId": "2ce841dc-d85a-4d0c-f848-8c5ac232fb34",
        "colab": {}
      },
      "source": [
        "filedata=np.genfromtxt('data.txt',delimiter=',')\n",
        "print(filedata)"
      ],
      "execution_count": 0,
      "outputs": [
        {
          "output_type": "stream",
          "text": [
            "[[  1.  13.  21.  11. 196.  75.   4.   3.  34.   6.   7.   8.   0.   1.\n",
            "    2.   3.   4.   5.]\n",
            " [  3.  42.  12.  33. 766.  75.   4.  55.   6.   4.   3.   4.   5.   6.\n",
            "    7.   0.  11.  12.]\n",
            " [  1.  22.  33.  11. 999.  11.   2.   1.  78.   0.   1.   2.   9.   8.\n",
            "    7.   1.  76.  88.]]\n"
          ],
          "name": "stdout"
        }
      ]
    },
    {
      "cell_type": "code",
      "metadata": {
        "id": "j8QkzKKUDX92",
        "colab_type": "code",
        "outputId": "ae5e5a17-1019-49c9-bd1e-0795e4268579",
        "colab": {}
      },
      "source": [
        "# converting to int\n",
        "filedata=filedata.astype('int32')\n",
        "print(filedata)"
      ],
      "execution_count": 0,
      "outputs": [
        {
          "output_type": "stream",
          "text": [
            "[[  1  13  21  11 196  75   4   3  34   6   7   8   0   1   2   3   4   5]\n",
            " [  3  42  12  33 766  75   4  55   6   4   3   4   5   6   7   0  11  12]\n",
            " [  1  22  33  11 999  11   2   1  78   0   1   2   9   8   7   1  76  88]]\n"
          ],
          "name": "stdout"
        }
      ]
    },
    {
      "cell_type": "markdown",
      "metadata": {
        "id": "OiGuojsODX-D",
        "colab_type": "text"
      },
      "source": [
        "# Boolean masking and advanced indexing\n",
        "\n",
        "https://docs.scipy.org/doc/numpy-1.13.0/user/basics.indexing.html"
      ]
    },
    {
      "cell_type": "code",
      "metadata": {
        "id": "cND4JllPDX-E",
        "colab_type": "code",
        "outputId": "d1e35562-63d1-41a2-fda1-339c9a57a7aa",
        "colab": {}
      },
      "source": [
        "filedata>50"
      ],
      "execution_count": 0,
      "outputs": [
        {
          "output_type": "execute_result",
          "data": {
            "text/plain": [
              "array([[False, False, False, False,  True,  True, False, False, False,\n",
              "        False, False, False, False, False, False, False, False, False],\n",
              "       [False, False, False, False,  True,  True, False,  True, False,\n",
              "        False, False, False, False, False, False, False, False, False],\n",
              "       [False, False, False, False,  True, False, False, False,  True,\n",
              "        False, False, False, False, False, False, False,  True,  True]])"
            ]
          },
          "metadata": {
            "tags": []
          },
          "execution_count": 66
        }
      ]
    },
    {
      "cell_type": "code",
      "metadata": {
        "id": "5JuC5DzmDX-M",
        "colab_type": "code",
        "outputId": "56a103cd-0fce-4974-87eb-33fc7061a08a",
        "colab": {}
      },
      "source": [
        "filedata[filedata>50] #list as param "
      ],
      "execution_count": 0,
      "outputs": [
        {
          "output_type": "execute_result",
          "data": {
            "text/plain": [
              "array([196,  75, 766,  75,  55, 999,  78,  76,  88])"
            ]
          },
          "metadata": {
            "tags": []
          },
          "execution_count": 67
        }
      ]
    },
    {
      "cell_type": "markdown",
      "metadata": {
        "id": "okskDBbwDX-T",
        "colab_type": "text"
      },
      "source": [
        "**Example with 1-d array**"
      ]
    },
    {
      "cell_type": "code",
      "metadata": {
        "id": "fgWphOhmDX-U",
        "colab_type": "code",
        "outputId": "9857bf92-2900-45f1-dddb-f0b25ccbe988",
        "colab": {}
      },
      "source": [
        "xx=np.array([1,2,3,4,5,6,7,8,9])\n",
        "\n",
        "print(xx[[1,3,5,7]])\n",
        "\n",
        "print(xx[1:8:2])"
      ],
      "execution_count": 0,
      "outputs": [
        {
          "output_type": "stream",
          "text": [
            "[2 4 6 8]\n",
            "[2 4 6 8]\n"
          ],
          "name": "stdout"
        }
      ]
    },
    {
      "cell_type": "code",
      "metadata": {
        "id": "o4I-eU2JDX-c",
        "colab_type": "code",
        "outputId": "2137e135-421c-4f80-dfb3-c531e0527dd9",
        "colab": {}
      },
      "source": [
        "np.any(filedata>50,axis=0)"
      ],
      "execution_count": 0,
      "outputs": [
        {
          "output_type": "execute_result",
          "data": {
            "text/plain": [
              "array([False, False, False, False,  True,  True, False,  True,  True,\n",
              "       False, False, False, False, False, False, False,  True,  True])"
            ]
          },
          "metadata": {
            "tags": []
          },
          "execution_count": 69
        }
      ]
    },
    {
      "cell_type": "code",
      "metadata": {
        "id": "9h_wT_LEDX-i",
        "colab_type": "code",
        "outputId": "f8e266c0-a3a0-462c-c3ca-40aea30455c5",
        "colab": {}
      },
      "source": [
        "np.any(filedata>50,axis=1)"
      ],
      "execution_count": 0,
      "outputs": [
        {
          "output_type": "execute_result",
          "data": {
            "text/plain": [
              "array([ True,  True,  True])"
            ]
          },
          "metadata": {
            "tags": []
          },
          "execution_count": 70
        }
      ]
    },
    {
      "cell_type": "code",
      "metadata": {
        "id": "CqWU5b7rDX-o",
        "colab_type": "code",
        "outputId": "eb058621-8db9-45af-cf21-195467d592cc",
        "colab": {}
      },
      "source": [
        "filedata[ (filedata>50) & (filedata<100)]  #between 50 to 100"
      ],
      "execution_count": 0,
      "outputs": [
        {
          "output_type": "execute_result",
          "data": {
            "text/plain": [
              "array([75, 75, 55, 78, 76, 88])"
            ]
          },
          "metadata": {
            "tags": []
          },
          "execution_count": 71
        }
      ]
    },
    {
      "cell_type": "code",
      "metadata": {
        "id": "xfmPLaI-DX-u",
        "colab_type": "code",
        "outputId": "841fb743-5dd1-4dca-f179-88f8eea7f58e",
        "colab": {}
      },
      "source": [
        "filedata[~( (filedata>50) & (filedata<100) )]  \n",
        "\n",
        "#all values excluding the number between 50 to 100"
      ],
      "execution_count": 0,
      "outputs": [
        {
          "output_type": "execute_result",
          "data": {
            "text/plain": [
              "array([  1,  13,  21,  11, 196,   4,   3,  34,   6,   7,   8,   0,   1,\n",
              "         2,   3,   4,   5,   3,  42,  12,  33, 766,   4,   6,   4,   3,\n",
              "         4,   5,   6,   7,   0,  11,  12,   1,  22,  33,  11, 999,  11,\n",
              "         2,   1,   0,   1,   2,   9,   8,   7,   1])"
            ]
          },
          "metadata": {
            "tags": []
          },
          "execution_count": 72
        }
      ]
    },
    {
      "cell_type": "markdown",
      "metadata": {
        "id": "jIBAWGKlDX-1",
        "colab_type": "text"
      },
      "source": [
        "**Additional Example**"
      ]
    },
    {
      "cell_type": "markdown",
      "metadata": {
        "id": "xyRtJNFlDX-2",
        "colab_type": "text"
      },
      "source": [
        "![code-snippet2](Cap.PNG)"
      ]
    },
    {
      "cell_type": "markdown",
      "metadata": {
        "id": "mPiuvs01DX-4",
        "colab_type": "text"
      },
      "source": [
        "# Thanks ...\n",
        "\n",
        "**For more <a href='https://www.pythonprogramming.in/numpy-tutorial-with-examples-and-solutions.html' >here</a>\n",
        "\n",
        "\n",
        "https://realpython.com/numpy-array-programming/"
      ]
    },
    {
      "cell_type": "markdown",
      "metadata": {
        "id": "UVzvad_kDX-6",
        "colab_type": "text"
      },
      "source": [
        "Reading from Image\n",
        "=========================\n",
        "\n",
        "prerequisite : pip install opencv-python"
      ]
    },
    {
      "cell_type": "code",
      "metadata": {
        "id": "UHLtaxvhDX-7",
        "colab_type": "code",
        "colab": {}
      },
      "source": [
        "import cv2"
      ],
      "execution_count": 0,
      "outputs": []
    },
    {
      "cell_type": "code",
      "metadata": {
        "id": "egzbohtIDX_B",
        "colab_type": "code",
        "outputId": "a59580b7-ed52-43dd-f990-cabd85853d7d",
        "colab": {}
      },
      "source": [
        "img1=cv2.imread('smallgray.png',0)      # o for greyscale and 1 for color(RGB)\n",
        "print(img1,'\\n')                            #an numpy array : converted from pixels\n",
        "\n",
        "img2=cv2.imread('smallgray.png',1)      # o for greyscale and 1 for color\n",
        "print(img2)                            #an numpy array : converted from pixels"
      ],
      "execution_count": 0,
      "outputs": [
        {
          "output_type": "stream",
          "text": [
            "[[187 158 104 121 143]\n",
            " [198 125 255 255 147]\n",
            " [209 134 255  97 182]] \n",
            "\n",
            "[[[187 187 187]\n",
            "  [158 158 158]\n",
            "  [104 104 104]\n",
            "  [121 121 121]\n",
            "  [143 143 143]]\n",
            "\n",
            " [[198 198 198]\n",
            "  [125 125 125]\n",
            "  [255 255 255]\n",
            "  [255 255 255]\n",
            "  [147 147 147]]\n",
            "\n",
            " [[209 209 209]\n",
            "  [134 134 134]\n",
            "  [255 255 255]\n",
            "  [ 97  97  97]\n",
            "  [182 182 182]]]\n"
          ],
          "name": "stdout"
        }
      ]
    },
    {
      "cell_type": "code",
      "metadata": {
        "id": "Bzag2rOlDX_H",
        "colab_type": "code",
        "outputId": "67ff2b29-5dd4-4216-fea5-6324fa5242f7",
        "colab": {}
      },
      "source": [
        "cv2.imwrite('grey_image.png',img1)  #storing the image  by image writting (imwrite)\n",
        "cv2.imwrite('color_image.png',img2) "
      ],
      "execution_count": 0,
      "outputs": [
        {
          "output_type": "execute_result",
          "data": {
            "text/plain": [
              "True"
            ]
          },
          "metadata": {
            "tags": []
          },
          "execution_count": 75
        }
      ]
    },
    {
      "cell_type": "markdown",
      "metadata": {
        "id": "j-NKStHYDX_W",
        "colab_type": "text"
      },
      "source": [
        "# iterating"
      ]
    },
    {
      "cell_type": "code",
      "metadata": {
        "id": "hShN5Ez8DX_Z",
        "colab_type": "code",
        "outputId": "51876047-a291-4979-bd44-f440876ee3d7",
        "colab": {}
      },
      "source": [
        "b"
      ],
      "execution_count": 0,
      "outputs": [
        {
          "output_type": "execute_result",
          "data": {
            "text/plain": [
              "array([[  1,   2,   3,   4],\n",
              "       [  5,   6, 200,   8],\n",
              "       [  9,  10,  11, 111]])"
            ]
          },
          "metadata": {
            "tags": []
          },
          "execution_count": 76
        }
      ]
    },
    {
      "cell_type": "code",
      "metadata": {
        "id": "y9S5CrZbDX_f",
        "colab_type": "code",
        "outputId": "ef8dc110-7fda-4d70-9a0c-9368355709c1",
        "colab": {}
      },
      "source": [
        "for i in b:\n",
        "    print(i)      #prints all the rows"
      ],
      "execution_count": 0,
      "outputs": [
        {
          "output_type": "stream",
          "text": [
            "[1 2 3 4]\n",
            "[  5   6 200   8]\n",
            "[  9  10  11 111]\n"
          ],
          "name": "stdout"
        }
      ]
    },
    {
      "cell_type": "code",
      "metadata": {
        "id": "lA8c87o6DX_o",
        "colab_type": "code",
        "outputId": "be99dde2-c96e-4c9c-ef6e-1c6ca7c8c8d3",
        "colab": {}
      },
      "source": [
        "for i in b.T:\n",
        "    print(i)     #rows of transposed matrix b"
      ],
      "execution_count": 0,
      "outputs": [
        {
          "output_type": "stream",
          "text": [
            "[1 5 9]\n",
            "[ 2  6 10]\n",
            "[  3 200  11]\n",
            "[  4   8 111]\n"
          ],
          "name": "stdout"
        }
      ]
    },
    {
      "cell_type": "code",
      "metadata": {
        "id": "X52sg0nJDX_u",
        "colab_type": "code",
        "outputId": "7a36b3c1-08e0-41e9-eec3-9e3f7a003219",
        "colab": {}
      },
      "source": [
        "for i in b.flat:\n",
        "    print(i)     #prints all the value in scalar"
      ],
      "execution_count": 0,
      "outputs": [
        {
          "output_type": "stream",
          "text": [
            "1\n",
            "2\n",
            "3\n",
            "4\n",
            "5\n",
            "6\n",
            "200\n",
            "8\n",
            "9\n",
            "10\n",
            "11\n",
            "111\n"
          ],
          "name": "stdout"
        }
      ]
    },
    {
      "cell_type": "code",
      "metadata": {
        "id": "qgex7XQdDX_0",
        "colab_type": "code",
        "colab": {}
      },
      "source": [
        ""
      ],
      "execution_count": 0,
      "outputs": []
    }
  ]
}