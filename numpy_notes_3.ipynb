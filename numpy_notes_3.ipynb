{
  "nbformat": 4,
  "nbformat_minor": 0,
  "metadata": {
    "colab": {
      "name": "numpy-notes-3.ipynb",
      "provenance": [],
      "authorship_tag": "ABX9TyNjEX1q8yRo5B01yU56rn95",
      "include_colab_link": true
    },
    "kernelspec": {
      "name": "python3",
      "display_name": "Python 3"
    }
  },
  "cells": [
    {
      "cell_type": "markdown",
      "metadata": {
        "id": "view-in-github",
        "colab_type": "text"
      },
      "source": [
        "<a href=\"https://colab.research.google.com/github/teddcp/numpy-notes/blob/master/numpy_notes_3.ipynb\" target=\"_parent\"><img src=\"https://colab.research.google.com/assets/colab-badge.svg\" alt=\"Open In Colab\"/></a>"
      ]
    },
    {
      "cell_type": "code",
      "metadata": {
        "id": "sTyqSxb7RnY8",
        "colab_type": "code",
        "colab": {
          "base_uri": "https://localhost:8080/",
          "height": 52
        },
        "outputId": "07dd87bf-cfd2-423d-b7d2-0c02e424bb64"
      },
      "source": [
        "#numpy stores data of one type\n",
        "#in the below examle, all are comverted to string \n",
        "import numpy as np\n",
        "a=np.array(['tedd',11,12.35,True])\n",
        "print(a)\n",
        "print(a.dtype)"
      ],
      "execution_count": 2,
      "outputs": [
        {
          "output_type": "stream",
          "text": [
            "['tedd' '11' '12.35' 'True']\n",
            "<U5\n"
          ],
          "name": "stdout"
        }
      ]
    },
    {
      "cell_type": "code",
      "metadata": {
        "id": "N1VNEByrTjke",
        "colab_type": "code",
        "colab": {
          "base_uri": "https://localhost:8080/",
          "height": 52
        },
        "outputId": "7a2143a5-476a-4510-d14f-46704e3b9cb2"
      },
      "source": [
        "print(np.zeros(4,dtype=int))\n",
        "print(np.zeros((1,4),dtype=int))"
      ],
      "execution_count": 6,
      "outputs": [
        {
          "output_type": "stream",
          "text": [
            "[0 0 0 0]\n",
            "[[0 0 0 0]]\n"
          ],
          "name": "stdout"
        }
      ]
    },
    {
      "cell_type": "markdown",
      "metadata": {
        "id": "AnS8gDirRq9i",
        "colab_type": "text"
      },
      "source": [
        "# Numpy's Structured/Record arrays\n",
        "-------------------------------------------\n",
        "\n",
        "Numpy is used for to store the homogenous data i.e all the elements of same data type. Even if we try to store diff. data type in numpy array, it will cast them to a common data type.\n",
        "\n",
        "But we need sometimes to store hetrogenous data. Here the structured arrays help us to achieve this.To do that we use the **compound datatype** of numpy."
      ]
    },
    {
      "cell_type": "code",
      "metadata": {
        "id": "lwlXOA8FSj2v",
        "colab_type": "code",
        "colab": {}
      },
      "source": [
        " name = ['Alice', 'Bob', 'Cathy', 'Doug']       \n",
        " age = [25, 45, 37, 19]       \n",
        " weight = [55.0, 85.5, 68.0, 61.5] "
      ],
      "execution_count": 0,
      "outputs": []
    },
    {
      "cell_type": "code",
      "metadata": {
        "id": "_fzQ_0brTGQo",
        "colab_type": "code",
        "colab": {
          "base_uri": "https://localhost:8080/",
          "height": 52
        },
        "outputId": "e9d2a938-9d02-4829-afc5-e594911a0e42"
      },
      "source": [
        "# using  a compound data type to store all the above data into a single structure\n",
        "data=np.zeros(4,dtype={'names':('name','age','weight'), 'formats':('U10','i4','f8')})\n",
        "data"
      ],
      "execution_count": 9,
      "outputs": [
        {
          "output_type": "execute_result",
          "data": {
            "text/plain": [
              "array([('', 0, 0.), ('', 0, 0.), ('', 0, 0.), ('', 0, 0.)],\n",
              "      dtype=[('name', '<U10'), ('age', '<i4'), ('weight', '<f8')])"
            ]
          },
          "metadata": {
            "tags": []
          },
          "execution_count": 9
        }
      ]
    },
    {
      "cell_type": "code",
      "metadata": {
        "id": "t9mHXdyPUTnp",
        "colab_type": "code",
        "colab": {
          "base_uri": "https://localhost:8080/",
          "height": 70
        },
        "outputId": "b77f909d-6f1f-485a-e155-44d57ee0326c"
      },
      "source": [
        "data['name']=name\n",
        "data['age']=age\n",
        "data['weight']=weight\n",
        "\n",
        "# all the different data are arranged in a single block of memory\n",
        "data"
      ],
      "execution_count": 10,
      "outputs": [
        {
          "output_type": "execute_result",
          "data": {
            "text/plain": [
              "array([('Alice', 25, 55. ), ('Bob', 45, 85.5), ('Cathy', 37, 68. ),\n",
              "       ('Doug', 19, 61.5)],\n",
              "      dtype=[('name', '<U10'), ('age', '<i4'), ('weight', '<f8')])"
            ]
          },
          "metadata": {
            "tags": []
          },
          "execution_count": 10
        }
      ]
    },
    {
      "cell_type": "markdown",
      "metadata": {
        "id": "wzVCcONoWMwk",
        "colab_type": "text"
      },
      "source": [
        "# Accessing the elements inside structured arrays\n",
        "\n",
        "> data[key_name]\n",
        "\n",
        "> data[index]\n",
        "\n",
        "> data[index][index]\n",
        "\n",
        "boolean masking also works here."
      ]
    },
    {
      "cell_type": "code",
      "metadata": {
        "id": "c0RXKAXOUtol",
        "colab_type": "code",
        "colab": {
          "base_uri": "https://localhost:8080/",
          "height": 34
        },
        "outputId": "a18e3470-80ad-41f2-ed96-0e5599e856cc"
      },
      "source": [
        "data.size"
      ],
      "execution_count": 12,
      "outputs": [
        {
          "output_type": "execute_result",
          "data": {
            "text/plain": [
              "4"
            ]
          },
          "metadata": {
            "tags": []
          },
          "execution_count": 12
        }
      ]
    },
    {
      "cell_type": "code",
      "metadata": {
        "id": "dE53UPPPWc-H",
        "colab_type": "code",
        "colab": {
          "base_uri": "https://localhost:8080/",
          "height": 34
        },
        "outputId": "a883ea36-5c69-45ad-8ca5-4411e881a9c2"
      },
      "source": [
        "data[0],data[-1]  #accessing the elements index wise"
      ],
      "execution_count": 15,
      "outputs": [
        {
          "output_type": "execute_result",
          "data": {
            "text/plain": [
              "(('Alice', 25, 55.), ('Doug', 19, 61.5))"
            ]
          },
          "metadata": {
            "tags": []
          },
          "execution_count": 15
        }
      ]
    },
    {
      "cell_type": "code",
      "metadata": {
        "id": "rNSmSxRcWh8F",
        "colab_type": "code",
        "colab": {
          "base_uri": "https://localhost:8080/",
          "height": 52
        },
        "outputId": "cb60199c-ac83-47e6-fe97-baadc4b9e24c"
      },
      "source": [
        "data['name'],data['weight']   #accessing the field names : name,age,weight"
      ],
      "execution_count": 16,
      "outputs": [
        {
          "output_type": "execute_result",
          "data": {
            "text/plain": [
              "(array(['Alice', 'Bob', 'Cathy', 'Doug'], dtype='<U10'),\n",
              " array([55. , 85.5, 68. , 61.5]))"
            ]
          },
          "metadata": {
            "tags": []
          },
          "execution_count": 16
        }
      ]
    },
    {
      "cell_type": "code",
      "metadata": {
        "id": "MLuzST7FWmUV",
        "colab_type": "code",
        "colab": {
          "base_uri": "https://localhost:8080/",
          "height": 34
        },
        "outputId": "000eb459-d5c5-4651-d302-c93fc9b3317d"
      },
      "source": [
        "data[0][-1]   #selecting the last element of first element i.e ('Alice', 25, 55.)"
      ],
      "execution_count": 18,
      "outputs": [
        {
          "output_type": "execute_result",
          "data": {
            "text/plain": [
              "55.0"
            ]
          },
          "metadata": {
            "tags": []
          },
          "execution_count": 18
        }
      ]
    },
    {
      "cell_type": "code",
      "metadata": {
        "id": "-URPt0XeWxjy",
        "colab_type": "code",
        "colab": {
          "base_uri": "https://localhost:8080/",
          "height": 34
        },
        "outputId": "5d5223af-75a6-455d-8269-0958db3bfa2c"
      },
      "source": [
        "data[-1]['name']  # we combine the index and name format as well"
      ],
      "execution_count": 21,
      "outputs": [
        {
          "output_type": "execute_result",
          "data": {
            "text/plain": [
              "'Doug'"
            ]
          },
          "metadata": {
            "tags": []
          },
          "execution_count": 21
        }
      ]
    },
    {
      "cell_type": "code",
      "metadata": {
        "id": "T7B-UbggXfng",
        "colab_type": "code",
        "colab": {
          "base_uri": "https://localhost:8080/",
          "height": 34
        },
        "outputId": "e3b97af6-3c83-4f23-90fc-c27bb74a4d0f"
      },
      "source": [
        "data[data['age']>20 ]['name']  #boolean masking "
      ],
      "execution_count": 28,
      "outputs": [
        {
          "output_type": "execute_result",
          "data": {
            "text/plain": [
              "array(['Alice', 'Bob', 'Cathy'], dtype='<U10')"
            ]
          },
          "metadata": {
            "tags": []
          },
          "execution_count": 28
        }
      ]
    },
    {
      "cell_type": "code",
      "metadata": {
        "id": "LyLEavkYXpkp",
        "colab_type": "code",
        "colab": {
          "base_uri": "https://localhost:8080/",
          "height": 167
        },
        "outputId": "2a60adbb-fce3-4bfd-98f3-5e6e5c8f49fc"
      },
      "source": [
        "#Note : Complex operations won't support here like bit operations : &,|,~\n",
        "#solution : pandas DataFrame\n",
        "data[ data['age']>30 & data['weight']<50 ]"
      ],
      "execution_count": 30,
      "outputs": [
        {
          "output_type": "error",
          "ename": "TypeError",
          "evalue": "ignored",
          "traceback": [
            "\u001b[0;31m---------------------------------------------------------------------------\u001b[0m",
            "\u001b[0;31mTypeError\u001b[0m                                 Traceback (most recent call last)",
            "\u001b[0;32m<ipython-input-30-0aaa40c87f75>\u001b[0m in \u001b[0;36m<module>\u001b[0;34m()\u001b[0m\n\u001b[0;32m----> 1\u001b[0;31m \u001b[0mdata\u001b[0m\u001b[0;34m[\u001b[0m \u001b[0mdata\u001b[0m\u001b[0;34m[\u001b[0m\u001b[0;34m'age'\u001b[0m\u001b[0;34m]\u001b[0m\u001b[0;34m>\u001b[0m\u001b[0;36m30\u001b[0m \u001b[0;34m&\u001b[0m \u001b[0mdata\u001b[0m\u001b[0;34m[\u001b[0m\u001b[0;34m'weight'\u001b[0m\u001b[0;34m]\u001b[0m\u001b[0;34m<\u001b[0m\u001b[0;36m50\u001b[0m \u001b[0;34m]\u001b[0m\u001b[0;34m\u001b[0m\u001b[0;34m\u001b[0m\u001b[0m\n\u001b[0m",
            "\u001b[0;31mTypeError\u001b[0m: ufunc 'bitwise_and' not supported for the input types, and the inputs could not be safely coerced to any supported types according to the casting rule ''safe''"
          ]
        }
      ]
    },
    {
      "cell_type": "markdown",
      "metadata": {
        "id": "k0RvzSEtZk2i",
        "colab_type": "text"
      },
      "source": [
        "## alternative way to create a structured arrays"
      ]
    },
    {
      "cell_type": "code",
      "metadata": {
        "id": "3RM4Kh4GYQ7r",
        "colab_type": "code",
        "colab": {
          "base_uri": "https://localhost:8080/",
          "height": 34
        },
        "outputId": "a696bfc2-ab01-4a42-93cd-11bcab58c6af"
      },
      "source": [
        "# 1: passing in dictionary : the field name and data type\n",
        "dt=np.dtype({'names':('name','age'),'formats':('S10','i8')} )\n",
        "arr=np.zeros(2,dtype=dt)\n",
        "arr"
      ],
      "execution_count": 33,
      "outputs": [
        {
          "output_type": "execute_result",
          "data": {
            "text/plain": [
              "array([(b'', 0), (b'', 0)], dtype=[('name', 'S10'), ('age', '<i8')])"
            ]
          },
          "metadata": {
            "tags": []
          },
          "execution_count": 33
        }
      ]
    },
    {
      "cell_type": "code",
      "metadata": {
        "id": "HcOm-mFDaR78",
        "colab_type": "code",
        "colab": {
          "base_uri": "https://localhost:8080/",
          "height": 34
        },
        "outputId": "5483f1dd-724b-46ee-ffb5-b17a9685f584"
      },
      "source": [
        "# 2: passing in list of tuples\n",
        "dt=np.dtype([('name','U10'),('roll_no','i8'),('age','i8')])\n",
        "arr=np.zeros(5,dtype=dt)\n",
        "print(arr)"
      ],
      "execution_count": 38,
      "outputs": [
        {
          "output_type": "stream",
          "text": [
            "[('', 0, 0) ('', 0, 0) ('', 0, 0) ('', 0, 0) ('', 0, 0)]\n"
          ],
          "name": "stdout"
        }
      ]
    },
    {
      "cell_type": "code",
      "metadata": {
        "id": "GHhIG2XCa8bA",
        "colab_type": "code",
        "colab": {
          "base_uri": "https://localhost:8080/",
          "height": 52
        },
        "outputId": "a0871b14-23ed-4f3a-adae-9c3a74b34a16"
      },
      "source": [
        "# 3: without field names ,it assigns default field name : f0,f1,f2 etc\n",
        "dt=np.dtype('S10,i4,f8')\n",
        "arr=np.zeros(4,dtype=dt)\n",
        "arr"
      ],
      "execution_count": 40,
      "outputs": [
        {
          "output_type": "execute_result",
          "data": {
            "text/plain": [
              "array([(b'', 0, 0.), (b'', 0, 0.), (b'', 0, 0.), (b'', 0, 0.)],\n",
              "      dtype=[('f0', 'S10'), ('f1', '<i4'), ('f2', '<f8')])"
            ]
          },
          "metadata": {
            "tags": []
          },
          "execution_count": 40
        }
      ]
    },
    {
      "cell_type": "markdown",
      "metadata": {
        "id": "m-PhiFStb0q_",
        "colab_type": "text"
      },
      "source": [
        "## Record arrays\n",
        "\n",
        "fields can be accessed as attributes rather than as dictionary keys with the \n",
        "**np.recarray** class.\n",
        "\n",
        "The downside is that for record arrays, there is some extra overhead involved in accessing the fields, even when using the same syntax. \n"
      ]
    },
    {
      "cell_type": "code",
      "metadata": {
        "id": "0URsvVThbjkW",
        "colab_type": "code",
        "colab": {
          "base_uri": "https://localhost:8080/",
          "height": 140
        },
        "outputId": "7bb4166a-ccb1-4f4d-c631-3e63e7d8b5ee"
      },
      "source": [
        "data_rec=np.recarray((3,2),dtype=[('x','int'),('y','float')])\n",
        "data_rec"
      ],
      "execution_count": 42,
      "outputs": [
        {
          "output_type": "execute_result",
          "data": {
            "text/plain": [
              "rec.array([[(    73726016, 2.05833592e-312),\n",
              "            (171798691956, 2.05833592e-312)],\n",
              "           [(442381631602, 9.33678149e-313),\n",
              "            (180388626464, 2.27053550e-312)],\n",
              "           [(416611827831, 2.18565567e-312),\n",
              "            (176093659251, 2.66090406e-312)]],\n",
              "          dtype=[('x', '<i8'), ('y', '<f8')])"
            ]
          },
          "metadata": {
            "tags": []
          },
          "execution_count": 42
        }
      ]
    },
    {
      "cell_type": "code",
      "metadata": {
        "id": "HkfxfE-4cYi0",
        "colab_type": "code",
        "colab": {
          "base_uri": "https://localhost:8080/",
          "height": 70
        },
        "outputId": "8b3575b6-3718-4c90-a94e-e384bdc639f3"
      },
      "source": [
        "#convert a ndarray to recarray by view\n",
        "data_rec=data.view(np.recarray)\n",
        "data_rec   # itss a record array"
      ],
      "execution_count": 44,
      "outputs": [
        {
          "output_type": "execute_result",
          "data": {
            "text/plain": [
              "rec.array([('Alice', 25, 55. ), ('Bob', 45, 85.5), ('Cathy', 37, 68. ),\n",
              "           ('Doug', 19, 61.5)],\n",
              "          dtype=[('name', '<U10'), ('age', '<i4'), ('weight', '<f8')])"
            ]
          },
          "metadata": {
            "tags": []
          },
          "execution_count": 44
        }
      ]
    },
    {
      "cell_type": "code",
      "metadata": {
        "id": "m4pspiHHczeU",
        "colab_type": "code",
        "colab": {
          "base_uri": "https://localhost:8080/",
          "height": 34
        },
        "outputId": "bb6cd749-b3ff-42fb-f4c4-4cb02082292e"
      },
      "source": [
        "data_rec.name  # accessing via dot attribute to field "
      ],
      "execution_count": 46,
      "outputs": [
        {
          "output_type": "execute_result",
          "data": {
            "text/plain": [
              "array(['Alice', 'Bob', 'Cathy', 'Doug'], dtype='<U10')"
            ]
          },
          "metadata": {
            "tags": []
          },
          "execution_count": 46
        }
      ]
    },
    {
      "cell_type": "code",
      "metadata": {
        "id": "EmucMAwuc58D",
        "colab_type": "code",
        "colab": {}
      },
      "source": [
        ""
      ],
      "execution_count": 0,
      "outputs": []
    }
  ]
}