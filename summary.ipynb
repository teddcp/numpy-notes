{
  "nbformat": 4,
  "nbformat_minor": 0,
  "metadata": {
    "colab": {
      "name": "Untitled0.ipynb",
      "provenance": [],
      "toc_visible": true,
      "authorship_tag": "ABX9TyPwM30LgbhP03PWHcoOz9wM",
      "include_colab_link": true
    },
    "kernelspec": {
      "name": "python3",
      "display_name": "Python 3"
    }
  },
  "cells": [
    {
      "cell_type": "markdown",
      "metadata": {
        "id": "view-in-github",
        "colab_type": "text"
      },
      "source": [
        "<a href=\"https://colab.research.google.com/github/teddcp/numpy-notes/blob/master/summary.ipynb\" target=\"_parent\"><img src=\"https://colab.research.google.com/assets/colab-badge.svg\" alt=\"Open In Colab\"/></a>"
      ]
    },
    {
      "cell_type": "code",
      "metadata": {
        "id": "sd-Nrn_o7R2U",
        "colab_type": "code",
        "colab": {
          "base_uri": "https://localhost:8080/",
          "height": 35
        },
        "outputId": "28853805-a91b-4593-debb-2c7603a96acd"
      },
      "source": [
        "import numpy as np\n",
        "print(np.__version__)"
      ],
      "execution_count": 149,
      "outputs": [
        {
          "output_type": "stream",
          "text": [
            "1.18.3\n"
          ],
          "name": "stdout"
        }
      ]
    },
    {
      "cell_type": "markdown",
      "metadata": {
        "id": "cUDtTu8V7fgn",
        "colab_type": "text"
      },
      "source": [
        "#data types and attributes\n",
        "--------------------------------------\n",
        "\n",
        "main data type is ndarray"
      ]
    },
    {
      "cell_type": "code",
      "metadata": {
        "id": "pTfqT6kA7mpX",
        "colab_type": "code",
        "colab": {
          "base_uri": "https://localhost:8080/",
          "height": 35
        },
        "outputId": "27e8dff4-c9f2-4a16-91f5-58c90d9bf970"
      },
      "source": [
        "# 1-dimensional\n",
        "a=np.array([1,2,3])\n",
        "a"
      ],
      "execution_count": 103,
      "outputs": [
        {
          "output_type": "execute_result",
          "data": {
            "text/plain": [
              "array([1, 2, 3])"
            ]
          },
          "metadata": {
            "tags": []
          },
          "execution_count": 56
        },
        {
          "output_type": "execute_result",
          "data": {
            "text/plain": [
              "array([1, 2, 3])"
            ]
          },
          "metadata": {
            "tags": []
          },
          "execution_count": 103
        }
      ]
    },
    {
      "cell_type": "code",
      "metadata": {
        "id": "Ll25d3Vr7qfW",
        "colab_type": "code",
        "colab": {
          "base_uri": "https://localhost:8080/",
          "height": 35
        },
        "outputId": "a7179189-6d64-442e-b35a-fe1917707072"
      },
      "source": [
        "type(a)"
      ],
      "execution_count": 104,
      "outputs": [
        {
          "output_type": "execute_result",
          "data": {
            "text/plain": [
              "numpy.ndarray"
            ]
          },
          "metadata": {
            "tags": []
          },
          "execution_count": 57
        },
        {
          "output_type": "execute_result",
          "data": {
            "text/plain": [
              "numpy.ndarray"
            ]
          },
          "metadata": {
            "tags": []
          },
          "execution_count": 104
        }
      ]
    },
    {
      "cell_type": "code",
      "metadata": {
        "id": "fOvtPM3W7ro3",
        "colab_type": "code",
        "colab": {
          "base_uri": "https://localhost:8080/",
          "height": 106
        },
        "outputId": "bf87e0a0-2910-4506-d414-99d575e1998f"
      },
      "source": [
        "# 2-dimensional\n",
        "b=np.array([[2,33,44],[55,66,77],[1,2,3]])\n",
        "b,b.ndim"
      ],
      "execution_count": 105,
      "outputs": [
        {
          "output_type": "execute_result",
          "data": {
            "text/plain": [
              "(array([[ 2, 33, 44],\n",
              "        [55, 66, 77],\n",
              "        [ 1,  2,  3]]), 2)"
            ]
          },
          "metadata": {
            "tags": []
          },
          "execution_count": 58
        },
        {
          "output_type": "execute_result",
          "data": {
            "text/plain": [
              "(array([[ 2, 33, 44],\n",
              "        [55, 66, 77],\n",
              "        [ 1,  2,  3]]), 2)"
            ]
          },
          "metadata": {
            "tags": []
          },
          "execution_count": 105
        }
      ]
    },
    {
      "cell_type": "code",
      "metadata": {
        "id": "684Iteo174EH",
        "colab_type": "code",
        "colab": {
          "base_uri": "https://localhost:8080/",
          "height": 248
        },
        "outputId": "441cd750-9ce3-4f7d-d847-2ed797b18152"
      },
      "source": [
        "# 3-dimensional\n",
        "c=np.array([\n",
        "            [[1,2,3],[4,5,6],[7,8,9]],\n",
        "            [[1,1,1],[2,2,2],[3,3,3]]\n",
        "           ])\n",
        "c,c.ndim"
      ],
      "execution_count": 106,
      "outputs": [
        {
          "output_type": "execute_result",
          "data": {
            "text/plain": [
              "(array([[[1, 2, 3],\n",
              "         [4, 5, 6],\n",
              "         [7, 8, 9]],\n",
              " \n",
              "        [[1, 1, 1],\n",
              "         [2, 2, 2],\n",
              "         [3, 3, 3]]]), 3)"
            ]
          },
          "metadata": {
            "tags": []
          },
          "execution_count": 59
        },
        {
          "output_type": "execute_result",
          "data": {
            "text/plain": [
              "(array([[[1, 2, 3],\n",
              "         [4, 5, 6],\n",
              "         [7, 8, 9]],\n",
              " \n",
              "        [[1, 1, 1],\n",
              "         [2, 2, 2],\n",
              "         [3, 3, 3]]]), 3)"
            ]
          },
          "metadata": {
            "tags": []
          },
          "execution_count": 106
        }
      ]
    },
    {
      "cell_type": "code",
      "metadata": {
        "id": "wMLadZ2J8MI1",
        "colab_type": "code",
        "colab": {
          "base_uri": "https://localhost:8080/",
          "height": 35
        },
        "outputId": "1e026d3f-9717-4ee9-d99e-1ce98d47d3af"
      },
      "source": [
        "#getting the shape\n",
        "a.shape,b.shape,c.shape"
      ],
      "execution_count": 107,
      "outputs": [
        {
          "output_type": "execute_result",
          "data": {
            "text/plain": [
              "((3,), (3, 3), (2, 3, 3))"
            ]
          },
          "metadata": {
            "tags": []
          },
          "execution_count": 60
        },
        {
          "output_type": "execute_result",
          "data": {
            "text/plain": [
              "((3,), (3, 3), (2, 3, 3))"
            ]
          },
          "metadata": {
            "tags": []
          },
          "execution_count": 107
        }
      ]
    },
    {
      "cell_type": "code",
      "metadata": {
        "id": "AfR3xhqZ9JvF",
        "colab_type": "code",
        "colab": {
          "base_uri": "https://localhost:8080/",
          "height": 35
        },
        "outputId": "c6224a79-9c92-4277-c044-04377b5abd0f"
      },
      "source": [
        "#getting the dimension\n",
        "a.ndim,b.ndim,c.ndim"
      ],
      "execution_count": 108,
      "outputs": [
        {
          "output_type": "execute_result",
          "data": {
            "text/plain": [
              "(1, 2, 3)"
            ]
          },
          "metadata": {
            "tags": []
          },
          "execution_count": 61
        },
        {
          "output_type": "execute_result",
          "data": {
            "text/plain": [
              "(1, 2, 3)"
            ]
          },
          "metadata": {
            "tags": []
          },
          "execution_count": 108
        }
      ]
    },
    {
      "cell_type": "code",
      "metadata": {
        "id": "iyFwwCbC9NXm",
        "colab_type": "code",
        "colab": {
          "base_uri": "https://localhost:8080/",
          "height": 35
        },
        "outputId": "83d0497d-f487-4970-9a75-4354d55a8625"
      },
      "source": [
        "#getting the size of each array : no. of elements\n",
        "a.size,b.size,c.size"
      ],
      "execution_count": 109,
      "outputs": [
        {
          "output_type": "execute_result",
          "data": {
            "text/plain": [
              "(3, 9, 18)"
            ]
          },
          "metadata": {
            "tags": []
          },
          "execution_count": 62
        },
        {
          "output_type": "execute_result",
          "data": {
            "text/plain": [
              "(3, 9, 18)"
            ]
          },
          "metadata": {
            "tags": []
          },
          "execution_count": 109
        }
      ]
    },
    {
      "cell_type": "code",
      "metadata": {
        "id": "fQBmFlo-9Rf3",
        "colab_type": "code",
        "colab": {
          "base_uri": "https://localhost:8080/",
          "height": 35
        },
        "outputId": "92963ea8-2d80-40ab-f27d-2addfc89a1da"
      },
      "source": [
        "#getting the datatype\n",
        "a.dtype,b.dtype,c.dtype"
      ],
      "execution_count": 110,
      "outputs": [
        {
          "output_type": "execute_result",
          "data": {
            "text/plain": [
              "(dtype('int64'), dtype('int64'), dtype('int64'))"
            ]
          },
          "metadata": {
            "tags": []
          },
          "execution_count": 63
        },
        {
          "output_type": "execute_result",
          "data": {
            "text/plain": [
              "(dtype('int64'), dtype('int64'), dtype('int64'))"
            ]
          },
          "metadata": {
            "tags": []
          },
          "execution_count": 110
        }
      ]
    },
    {
      "cell_type": "code",
      "metadata": {
        "id": "6bAzeHOO9YTV",
        "colab_type": "code",
        "colab": {
          "base_uri": "https://localhost:8080/",
          "height": 35
        },
        "outputId": "bcfec7c2-e940-42e7-879f-b568d36312d4"
      },
      "source": [
        "#getting the total size of each array\n",
        "a.nbytes,b.nbytes,c.nbytes"
      ],
      "execution_count": 111,
      "outputs": [
        {
          "output_type": "execute_result",
          "data": {
            "text/plain": [
              "(24, 72, 144)"
            ]
          },
          "metadata": {
            "tags": []
          },
          "execution_count": 64
        },
        {
          "output_type": "execute_result",
          "data": {
            "text/plain": [
              "(24, 72, 144)"
            ]
          },
          "metadata": {
            "tags": []
          },
          "execution_count": 111
        }
      ]
    },
    {
      "cell_type": "markdown",
      "metadata": {
        "id": "i0QOs-FI9juc",
        "colab_type": "text"
      },
      "source": [
        "# 2. Creating the arrays\n",
        "-----------------------------\n"
      ]
    },
    {
      "cell_type": "code",
      "metadata": {
        "id": "zKsI22ao9eiG",
        "colab_type": "code",
        "colab": {
          "base_uri": "https://localhost:8080/",
          "height": 35
        },
        "outputId": "8962ec1f-dd08-42b3-c5fc-6b5b4e45b8ab"
      },
      "source": [
        "array=np.array([2,4,5])\n",
        "array"
      ],
      "execution_count": 112,
      "outputs": [
        {
          "output_type": "execute_result",
          "data": {
            "text/plain": [
              "array([2, 4, 5])"
            ]
          },
          "metadata": {
            "tags": []
          },
          "execution_count": 65
        },
        {
          "output_type": "execute_result",
          "data": {
            "text/plain": [
              "array([2, 4, 5])"
            ]
          },
          "metadata": {
            "tags": []
          },
          "execution_count": 112
        }
      ]
    },
    {
      "cell_type": "code",
      "metadata": {
        "id": "lAr-7mG79s4p",
        "colab_type": "code",
        "colab": {
          "base_uri": "https://localhost:8080/",
          "height": 35
        },
        "outputId": "1de444aa-88f2-4854-e914-9e395ab12645"
      },
      "source": [
        "array.dtype"
      ],
      "execution_count": 113,
      "outputs": [
        {
          "output_type": "execute_result",
          "data": {
            "text/plain": [
              "dtype('int64')"
            ]
          },
          "metadata": {
            "tags": []
          },
          "execution_count": 66
        },
        {
          "output_type": "execute_result",
          "data": {
            "text/plain": [
              "dtype('int64')"
            ]
          },
          "metadata": {
            "tags": []
          },
          "execution_count": 113
        }
      ]
    },
    {
      "cell_type": "code",
      "metadata": {
        "id": "-eHpnk2m9uXn",
        "colab_type": "code",
        "colab": {
          "base_uri": "https://localhost:8080/",
          "height": 266
        },
        "outputId": "48d01554-4830-4b1e-da8c-d1bb1cb3d8d9"
      },
      "source": [
        "# creating an matrix of ones\n",
        "print(np.ones(4,dtype='int'))\n",
        "print(np.ones((3,3)))\n",
        "print(np.ones_like(b))"
      ],
      "execution_count": 114,
      "outputs": [
        {
          "output_type": "stream",
          "text": [
            "[1 1 1 1]\n",
            "[[1. 1. 1.]\n",
            " [1. 1. 1.]\n",
            " [1. 1. 1.]]\n",
            "[[1 1 1]\n",
            " [1 1 1]\n",
            " [1 1 1]]\n",
            "[1 1 1 1]\n",
            "[[1. 1. 1.]\n",
            " [1. 1. 1.]\n",
            " [1. 1. 1.]]\n",
            "[[1 1 1]\n",
            " [1 1 1]\n",
            " [1 1 1]]\n"
          ],
          "name": "stdout"
        }
      ]
    },
    {
      "cell_type": "code",
      "metadata": {
        "id": "xDppwkd4-BgF",
        "colab_type": "code",
        "colab": {
          "base_uri": "https://localhost:8080/",
          "height": 266
        },
        "outputId": "973df3f2-28a5-427e-f4bd-a67c97d77f37"
      },
      "source": [
        "# creating an matrix of zeros\n",
        "print(np.zeros(4,dtype='int'))\n",
        "print(np.zeros((3,3)))\n",
        "print(np.zeros_like(b))"
      ],
      "execution_count": 115,
      "outputs": [
        {
          "output_type": "stream",
          "text": [
            "[0 0 0 0]\n",
            "[[0. 0. 0.]\n",
            " [0. 0. 0.]\n",
            " [0. 0. 0.]]\n",
            "[[0 0 0]\n",
            " [0 0 0]\n",
            " [0 0 0]]\n",
            "[0 0 0 0]\n",
            "[[0. 0. 0.]\n",
            " [0. 0. 0.]\n",
            " [0. 0. 0.]]\n",
            "[[0 0 0]\n",
            " [0 0 0]\n",
            " [0 0 0]]\n"
          ],
          "name": "stdout"
        }
      ]
    },
    {
      "cell_type": "code",
      "metadata": {
        "id": "O2q2bKUd-WrH",
        "colab_type": "code",
        "colab": {
          "base_uri": "https://localhost:8080/",
          "height": 141
        },
        "outputId": "a91d7baf-4990-4ac7-a342-b0b07097dee8"
      },
      "source": [
        "#identity matrix : np.eye(4)\n",
        "np.identity(4)"
      ],
      "execution_count": 116,
      "outputs": [
        {
          "output_type": "execute_result",
          "data": {
            "text/plain": [
              "array([[1., 0., 0., 0.],\n",
              "       [0., 1., 0., 0.],\n",
              "       [0., 0., 1., 0.],\n",
              "       [0., 0., 0., 1.]])"
            ]
          },
          "metadata": {
            "tags": []
          },
          "execution_count": 69
        },
        {
          "output_type": "execute_result",
          "data": {
            "text/plain": [
              "array([[1., 0., 0., 0.],\n",
              "       [0., 1., 0., 0.],\n",
              "       [0., 0., 1., 0.],\n",
              "       [0., 0., 0., 1.]])"
            ]
          },
          "metadata": {
            "tags": []
          },
          "execution_count": 116
        }
      ]
    },
    {
      "cell_type": "code",
      "metadata": {
        "id": "I4FrDRdQ_HWl",
        "colab_type": "code",
        "colab": {
          "base_uri": "https://localhost:8080/",
          "height": 106
        },
        "outputId": "c642e84c-c7e9-4d3f-b69a-4e12e7cfb105"
      },
      "source": [
        "#fill matrix with certain value\n",
        "np.full((3,4),100,dtype='U8')  #string of 100 in 3X4 matrix"
      ],
      "execution_count": 117,
      "outputs": [
        {
          "output_type": "execute_result",
          "data": {
            "text/plain": [
              "array([['100', '100', '100', '100'],\n",
              "       ['100', '100', '100', '100'],\n",
              "       ['100', '100', '100', '100']], dtype='<U8')"
            ]
          },
          "metadata": {
            "tags": []
          },
          "execution_count": 70
        },
        {
          "output_type": "execute_result",
          "data": {
            "text/plain": [
              "array([['100', '100', '100', '100'],\n",
              "       ['100', '100', '100', '100'],\n",
              "       ['100', '100', '100', '100']], dtype='<U8')"
            ]
          },
          "metadata": {
            "tags": []
          },
          "execution_count": 117
        }
      ]
    },
    {
      "cell_type": "code",
      "metadata": {
        "id": "X98GxLVt_SX1",
        "colab_type": "code",
        "colab": {
          "base_uri": "https://localhost:8080/",
          "height": 141
        },
        "outputId": "0e20ceee-05c5-4acc-b25a-a18bd88c7b3a"
      },
      "source": [
        "#empty matrix : creates an unintialized array of certain size\n",
        "np.empty((2,4))"
      ],
      "execution_count": 118,
      "outputs": [
        {
          "output_type": "execute_result",
          "data": {
            "text/plain": [
              "array([[3.34417463e-316, 6.90754627e-310, 2.14321575e-312,\n",
              "        2.46151512e-312],\n",
              "       [6.90754625e-310, 6.90752352e-310, 6.90752352e-310,\n",
              "        1.33511316e-306]])"
            ]
          },
          "metadata": {
            "tags": []
          },
          "execution_count": 71
        },
        {
          "output_type": "execute_result",
          "data": {
            "text/plain": [
              "array([[3.34417463e-316, 6.90754627e-310, 2.14321575e-312,\n",
              "        2.46151512e-312],\n",
              "       [6.90754625e-310, 6.90752352e-310, 6.90752352e-310,\n",
              "        1.33511316e-306]])"
            ]
          },
          "metadata": {
            "tags": []
          },
          "execution_count": 118
        }
      ]
    },
    {
      "cell_type": "code",
      "metadata": {
        "id": "Q48dJ5P3_fPl",
        "colab_type": "code",
        "colab": {}
      },
      "source": [
        ""
      ],
      "execution_count": 0,
      "outputs": []
    },
    {
      "cell_type": "markdown",
      "metadata": {
        "id": "mXaTiZ8l_m3S",
        "colab_type": "text"
      },
      "source": [
        "# creating random matrix in numpy\n",
        "--------------------------------------"
      ]
    },
    {
      "cell_type": "code",
      "metadata": {
        "id": "aqoRA5eM_tuf",
        "colab_type": "code",
        "colab": {
          "base_uri": "https://localhost:8080/",
          "height": 70
        },
        "outputId": "9bf6ca60-94cc-4790-fea2-f403bd2f3fe9"
      },
      "source": [
        "np.random.rand(2,3) \n",
        "#creates a uniform distribution between (0,1]"
      ],
      "execution_count": 119,
      "outputs": [
        {
          "output_type": "execute_result",
          "data": {
            "text/plain": [
              "array([[0.28589569, 0.85239509, 0.97500649],\n",
              "       [0.88485329, 0.35950784, 0.59885895]])"
            ]
          },
          "metadata": {
            "tags": []
          },
          "execution_count": 72
        },
        {
          "output_type": "execute_result",
          "data": {
            "text/plain": [
              "array([[0.28589569, 0.85239509, 0.97500649],\n",
              "       [0.88485329, 0.35950784, 0.59885895]])"
            ]
          },
          "metadata": {
            "tags": []
          },
          "execution_count": 119
        }
      ]
    },
    {
      "cell_type": "code",
      "metadata": {
        "id": "JhLVP5zv_3JK",
        "colab_type": "code",
        "colab": {
          "base_uri": "https://localhost:8080/",
          "height": 35
        },
        "outputId": "ebdd63fa-34d3-4e06-94a7-d889e87a2f92"
      },
      "source": [
        "np.random.random((3,3)) \n",
        "\n",
        "##creates a uniform distribution between (0,1]\n",
        "\n",
        "'''\n",
        "only difference between random and rand is the paramater style\n",
        "'''"
      ],
      "execution_count": 120,
      "outputs": [
        {
          "output_type": "execute_result",
          "data": {
            "text/plain": [
              "'\\nonly difference between random and rand is the paramater style\\n'"
            ]
          },
          "metadata": {
            "tags": []
          },
          "execution_count": 73
        },
        {
          "output_type": "execute_result",
          "data": {
            "text/plain": [
              "'\\nonly difference between random and rand is the paramater style\\n'"
            ]
          },
          "metadata": {
            "tags": []
          },
          "execution_count": 120
        }
      ]
    },
    {
      "cell_type": "code",
      "metadata": {
        "id": "hZnw6SQI_9sU",
        "colab_type": "code",
        "colab": {
          "base_uri": "https://localhost:8080/",
          "height": 106
        },
        "outputId": "00add118-1b58-45a8-b18a-e164375850ef"
      },
      "source": [
        "##  creates a uniform distribution between (low,high]\n",
        "np.random.uniform(low=10,high=100,size=(3,4))"
      ],
      "execution_count": 121,
      "outputs": [
        {
          "output_type": "execute_result",
          "data": {
            "text/plain": [
              "array([[22.8340283 , 94.04571695, 95.17418927, 64.2066992 ],\n",
              "       [44.89896523, 42.68692037, 28.39107492, 34.90885553],\n",
              "       [32.18822931, 25.62472016, 96.9948725 , 96.13113403]])"
            ]
          },
          "metadata": {
            "tags": []
          },
          "execution_count": 74
        },
        {
          "output_type": "execute_result",
          "data": {
            "text/plain": [
              "array([[22.8340283 , 94.04571695, 95.17418927, 64.2066992 ],\n",
              "       [44.89896523, 42.68692037, 28.39107492, 34.90885553],\n",
              "       [32.18822931, 25.62472016, 96.9948725 , 96.13113403]])"
            ]
          },
          "metadata": {
            "tags": []
          },
          "execution_count": 121
        }
      ]
    },
    {
      "cell_type": "code",
      "metadata": {
        "id": "aFvjEwcCASEk",
        "colab_type": "code",
        "colab": {
          "base_uri": "https://localhost:8080/",
          "height": 70
        },
        "outputId": "e3129c68-c57a-42db-c3a1-27e42b947723"
      },
      "source": [
        "## Normal distribution between 0 and 1 i.e mean 0 and std. dev is 1\n",
        "np.random.randn(2,5)"
      ],
      "execution_count": 122,
      "outputs": [
        {
          "output_type": "execute_result",
          "data": {
            "text/plain": [
              "array([[ 1.52795302,  0.64720579, -0.67733661, -0.2650188 ,  0.74610644],\n",
              "       [-3.13078483,  0.05962178, -0.87521111,  1.06487833, -0.57315265]])"
            ]
          },
          "metadata": {
            "tags": []
          },
          "execution_count": 75
        },
        {
          "output_type": "execute_result",
          "data": {
            "text/plain": [
              "array([[ 1.52795302,  0.64720579, -0.67733661, -0.2650188 ,  0.74610644],\n",
              "       [-3.13078483,  0.05962178, -0.87521111,  1.06487833, -0.57315265]])"
            ]
          },
          "metadata": {
            "tags": []
          },
          "execution_count": 122
        }
      ]
    },
    {
      "cell_type": "code",
      "metadata": {
        "id": "8ESqa8c_AiWn",
        "colab_type": "code",
        "colab": {
          "base_uri": "https://localhost:8080/",
          "height": 106
        },
        "outputId": "12053eac-4328-44c8-e95e-9ee0a232870e"
      },
      "source": [
        "# Normal distribution of 10 and 20 i.e mean 10 and std. dev is 20\n",
        "# number does not stay same on multiple executions\n",
        "np.random.normal(10,20,(3,3))"
      ],
      "execution_count": 123,
      "outputs": [
        {
          "output_type": "execute_result",
          "data": {
            "text/plain": [
              "array([[ -6.06556974,  31.85943254,  23.02555159],\n",
              "       [ 53.21049576,  -2.78260135,   3.32624941],\n",
              "       [  1.24796284, -28.11589762, -14.58038664]])"
            ]
          },
          "metadata": {
            "tags": []
          },
          "execution_count": 76
        },
        {
          "output_type": "execute_result",
          "data": {
            "text/plain": [
              "array([[ -6.06556974,  31.85943254,  23.02555159],\n",
              "       [ 53.21049576,  -2.78260135,   3.32624941],\n",
              "       [  1.24796284, -28.11589762, -14.58038664]])"
            ]
          },
          "metadata": {
            "tags": []
          },
          "execution_count": 123
        }
      ]
    },
    {
      "cell_type": "code",
      "metadata": {
        "id": "NK9UJWQPBNDU",
        "colab_type": "code",
        "colab": {
          "base_uri": "https://localhost:8080/",
          "height": 106
        },
        "outputId": "b9662d0e-5a70-400e-ad91-c8bfaf6d0909"
      },
      "source": [
        "## random integers between certain range\n",
        "np.random.randint(2,10,(3,4))"
      ],
      "execution_count": 124,
      "outputs": [
        {
          "output_type": "execute_result",
          "data": {
            "text/plain": [
              "array([[6, 6, 7, 3],\n",
              "       [9, 2, 3, 2],\n",
              "       [8, 6, 4, 2]])"
            ]
          },
          "metadata": {
            "tags": []
          },
          "execution_count": 77
        },
        {
          "output_type": "execute_result",
          "data": {
            "text/plain": [
              "array([[6, 6, 7, 3],\n",
              "       [9, 2, 3, 2],\n",
              "       [8, 6, 4, 2]])"
            ]
          },
          "metadata": {
            "tags": []
          },
          "execution_count": 124
        }
      ]
    },
    {
      "cell_type": "code",
      "metadata": {
        "id": "cz1nL8hsBg34",
        "colab_type": "code",
        "colab": {
          "base_uri": "https://localhost:8080/",
          "height": 35
        },
        "outputId": "8e92eadb-9d97-4f30-99e6-ca58c1e0825a"
      },
      "source": [
        "## evenly spaced numbers between certain range\n",
        "np.linspace(10,20,num=5)"
      ],
      "execution_count": 125,
      "outputs": [
        {
          "output_type": "execute_result",
          "data": {
            "text/plain": [
              "array([10. , 12.5, 15. , 17.5, 20. ])"
            ]
          },
          "metadata": {
            "tags": []
          },
          "execution_count": 78
        },
        {
          "output_type": "execute_result",
          "data": {
            "text/plain": [
              "array([10. , 12.5, 15. , 17.5, 20. ])"
            ]
          },
          "metadata": {
            "tags": []
          },
          "execution_count": 125
        }
      ]
    },
    {
      "cell_type": "code",
      "metadata": {
        "id": "9UBifuCjCBX7",
        "colab_type": "code",
        "colab": {
          "base_uri": "https://localhost:8080/",
          "height": 35
        },
        "outputId": "182f9015-6262-4d58-de54-909a276e76a5"
      },
      "source": [
        "# numbers of certain range\n",
        "np.arange(10,20,3) # sttart,stop,step"
      ],
      "execution_count": 126,
      "outputs": [
        {
          "output_type": "execute_result",
          "data": {
            "text/plain": [
              "array([10, 13, 16, 19])"
            ]
          },
          "metadata": {
            "tags": []
          },
          "execution_count": 79
        },
        {
          "output_type": "execute_result",
          "data": {
            "text/plain": [
              "array([10, 13, 16, 19])"
            ]
          },
          "metadata": {
            "tags": []
          },
          "execution_count": 126
        }
      ]
    },
    {
      "cell_type": "code",
      "metadata": {
        "id": "_4oDU9b3CWdk",
        "colab_type": "code",
        "colab": {
          "base_uri": "https://localhost:8080/",
          "height": 141
        },
        "outputId": "12f2858a-d0f7-4301-877d-e2dd140c24ed"
      },
      "source": [
        "## using random.seeed : number stays same irrespective of executions\n",
        "np.random.seed(100)\n",
        "np.random.random((4,4))"
      ],
      "execution_count": 127,
      "outputs": [
        {
          "output_type": "execute_result",
          "data": {
            "text/plain": [
              "array([[0.54340494, 0.27836939, 0.42451759, 0.84477613],\n",
              "       [0.00471886, 0.12156912, 0.67074908, 0.82585276],\n",
              "       [0.13670659, 0.57509333, 0.89132195, 0.20920212],\n",
              "       [0.18532822, 0.10837689, 0.21969749, 0.97862378]])"
            ]
          },
          "metadata": {
            "tags": []
          },
          "execution_count": 80
        },
        {
          "output_type": "execute_result",
          "data": {
            "text/plain": [
              "array([[0.54340494, 0.27836939, 0.42451759, 0.84477613],\n",
              "       [0.00471886, 0.12156912, 0.67074908, 0.82585276],\n",
              "       [0.13670659, 0.57509333, 0.89132195, 0.20920212],\n",
              "       [0.18532822, 0.10837689, 0.21969749, 0.97862378]])"
            ]
          },
          "metadata": {
            "tags": []
          },
          "execution_count": 127
        }
      ]
    },
    {
      "cell_type": "code",
      "metadata": {
        "id": "r_3coywdClRC",
        "colab_type": "code",
        "colab": {
          "base_uri": "https://localhost:8080/",
          "height": 70
        },
        "outputId": "417fd869-211c-4c7c-a15d-16be7f29e5fd"
      },
      "source": [
        "#using randomstate\n",
        "r=np.random.RandomState(100)\n",
        "r.randn(2,3)\n",
        "#r.randomint()\n",
        "#r.rand()"
      ],
      "execution_count": 128,
      "outputs": [
        {
          "output_type": "execute_result",
          "data": {
            "text/plain": [
              "array([[-1.74976547,  0.3426804 ,  1.1530358 ],\n",
              "       [-0.25243604,  0.98132079,  0.51421884]])"
            ]
          },
          "metadata": {
            "tags": []
          },
          "execution_count": 81
        },
        {
          "output_type": "execute_result",
          "data": {
            "text/plain": [
              "array([[-1.74976547,  0.3426804 ,  1.1530358 ],\n",
              "       [-0.25243604,  0.98132079,  0.51421884]])"
            ]
          },
          "metadata": {
            "tags": []
          },
          "execution_count": 128
        }
      ]
    },
    {
      "cell_type": "markdown",
      "metadata": {
        "id": "dkQVfLbSFzc6",
        "colab_type": "text"
      },
      "source": [
        "1. [Difference](https://stackoverflow.com/q/22994423/12210002) between np.random.seed() and np.randomState(seed) .\n",
        "\n",
        "2. first one affects the state globally and sets it to that for all operations  .\n",
        "\n",
        "3. while the latter one sets the state with the seed for that operation only. it returns a random object by which we can perform all the operations . \n",
        "  e.g : r.rand or r.randn etc.\n",
        "\n",
        "4. meaning random.seed(0) [link1](https://stackoverflow.com/q/21494489/12210002) and [link2](https://stackoverflow.com/a/22639752/12210002)"
      ]
    },
    {
      "cell_type": "code",
      "metadata": {
        "id": "ZaZj5DY7Ey-T",
        "colab_type": "code",
        "colab": {}
      },
      "source": [
        ""
      ],
      "execution_count": 0,
      "outputs": []
    },
    {
      "cell_type": "markdown",
      "metadata": {
        "id": "ld5SyZnjKBvZ",
        "colab_type": "text"
      },
      "source": [
        "# Accessing the elements of the array\n",
        "---------------------------------"
      ]
    },
    {
      "cell_type": "code",
      "metadata": {
        "id": "K5zLXJxVKEr2",
        "colab_type": "code",
        "colab": {
          "base_uri": "https://localhost:8080/",
          "height": 35
        },
        "outputId": "a8971e9c-e6bd-4a3b-9966-af73ab2ce4ec"
      },
      "source": [
        "# to get the unique elementss\n",
        "np.unique(c)"
      ],
      "execution_count": 129,
      "outputs": [
        {
          "output_type": "execute_result",
          "data": {
            "text/plain": [
              "array([1, 2, 3, 4, 5, 6, 7, 8, 9])"
            ]
          },
          "metadata": {
            "tags": []
          },
          "execution_count": 82
        },
        {
          "output_type": "execute_result",
          "data": {
            "text/plain": [
              "array([1, 2, 3, 4, 5, 6, 7, 8, 9])"
            ]
          },
          "metadata": {
            "tags": []
          },
          "execution_count": 129
        }
      ]
    },
    {
      "cell_type": "code",
      "metadata": {
        "id": "4EVEqHk4LJEc",
        "colab_type": "code",
        "colab": {
          "base_uri": "https://localhost:8080/",
          "height": 248
        },
        "outputId": "d655d049-5e9f-4c5b-8923-e0e5991abac4"
      },
      "source": [
        "# accessing the elements format : arr[dim,r,c...]\n",
        "c"
      ],
      "execution_count": 130,
      "outputs": [
        {
          "output_type": "execute_result",
          "data": {
            "text/plain": [
              "array([[[1, 2, 3],\n",
              "        [4, 5, 6],\n",
              "        [7, 8, 9]],\n",
              "\n",
              "       [[1, 1, 1],\n",
              "        [2, 2, 2],\n",
              "        [3, 3, 3]]])"
            ]
          },
          "metadata": {
            "tags": []
          },
          "execution_count": 83
        },
        {
          "output_type": "execute_result",
          "data": {
            "text/plain": [
              "array([[[1, 2, 3],\n",
              "        [4, 5, 6],\n",
              "        [7, 8, 9]],\n",
              "\n",
              "       [[1, 1, 1],\n",
              "        [2, 2, 2],\n",
              "        [3, 3, 3]]])"
            ]
          },
          "metadata": {
            "tags": []
          },
          "execution_count": 130
        }
      ]
    },
    {
      "cell_type": "code",
      "metadata": {
        "id": "EPRfrMiyLa_7",
        "colab_type": "code",
        "colab": {
          "base_uri": "https://localhost:8080/",
          "height": 35
        },
        "outputId": "0bb50986-3d3c-4f84-9767-12e40e1eb180"
      },
      "source": [
        "#suppose we want the [2,2,2] vector from c\n",
        "# c is a 3-dim\n",
        "c[1,1,:]"
      ],
      "execution_count": 131,
      "outputs": [
        {
          "output_type": "execute_result",
          "data": {
            "text/plain": [
              "array([2, 2, 2])"
            ]
          },
          "metadata": {
            "tags": []
          },
          "execution_count": 84
        },
        {
          "output_type": "execute_result",
          "data": {
            "text/plain": [
              "array([2, 2, 2])"
            ]
          },
          "metadata": {
            "tags": []
          },
          "execution_count": 131
        }
      ]
    },
    {
      "cell_type": "code",
      "metadata": {
        "id": "GgeXf2Z-LqtL",
        "colab_type": "code",
        "colab": {
          "base_uri": "https://localhost:8080/",
          "height": 70
        },
        "outputId": "2e2c98de-740d-4e9a-a52a-545745fc54b7"
      },
      "source": [
        "#suppose we want the middle coloumn of each matrix 2,5,8,1,2,3\n",
        "c[:,:,1]"
      ],
      "execution_count": 132,
      "outputs": [
        {
          "output_type": "execute_result",
          "data": {
            "text/plain": [
              "array([[2, 5, 8],\n",
              "       [1, 2, 3]])"
            ]
          },
          "metadata": {
            "tags": []
          },
          "execution_count": 85
        },
        {
          "output_type": "execute_result",
          "data": {
            "text/plain": [
              "array([[2, 5, 8],\n",
              "       [1, 2, 3]])"
            ]
          },
          "metadata": {
            "tags": []
          },
          "execution_count": 132
        }
      ]
    },
    {
      "cell_type": "code",
      "metadata": {
        "id": "yod1krsKL-Nq",
        "colab_type": "code",
        "colab": {
          "base_uri": "https://localhost:8080/",
          "height": 177
        },
        "outputId": "cb24e340-f5f5-4f85-8c8c-41fd8b9c1ee8"
      },
      "source": [
        "c[:,:2,:2]"
      ],
      "execution_count": 133,
      "outputs": [
        {
          "output_type": "execute_result",
          "data": {
            "text/plain": [
              "array([[[1, 2],\n",
              "        [4, 5]],\n",
              "\n",
              "       [[1, 1],\n",
              "        [2, 2]]])"
            ]
          },
          "metadata": {
            "tags": []
          },
          "execution_count": 86
        },
        {
          "output_type": "execute_result",
          "data": {
            "text/plain": [
              "array([[[1, 2],\n",
              "        [4, 5]],\n",
              "\n",
              "       [[1, 1],\n",
              "        [2, 2]]])"
            ]
          },
          "metadata": {
            "tags": []
          },
          "execution_count": 133
        }
      ]
    },
    {
      "cell_type": "code",
      "metadata": {
        "id": "zCWeLkQOMMHK",
        "colab_type": "code",
        "colab": {
          "base_uri": "https://localhost:8080/",
          "height": 852
        },
        "outputId": "6380416f-f7d3-47cc-c53b-910576b34c65"
      },
      "source": [
        "#Another example\n",
        "d=np.random.randint(0,100,(2,3,3,3))\n",
        "d,d.ndim"
      ],
      "execution_count": 134,
      "outputs": [
        {
          "output_type": "execute_result",
          "data": {
            "text/plain": [
              "(array([[[[ 4, 31,  1],\n",
              "          [13, 83,  4],\n",
              "          [91, 59, 67]],\n",
              " \n",
              "         [[ 7, 49, 47],\n",
              "          [65, 61, 14],\n",
              "          [55, 71, 80]],\n",
              " \n",
              "         [[ 2, 94, 19],\n",
              "          [98, 63, 53],\n",
              "          [27, 56, 30]]],\n",
              " \n",
              " \n",
              "        [[[48, 47, 39],\n",
              "          [38, 44, 18],\n",
              "          [64, 56, 34]],\n",
              " \n",
              "         [[53, 74, 17],\n",
              "          [72, 13, 30],\n",
              "          [17, 53, 68]],\n",
              " \n",
              "         [[50, 91, 91],\n",
              "          [83, 53, 78],\n",
              "          [ 0, 13, 57]]]]), 4)"
            ]
          },
          "metadata": {
            "tags": []
          },
          "execution_count": 87
        },
        {
          "output_type": "execute_result",
          "data": {
            "text/plain": [
              "(array([[[[ 4, 31,  1],\n",
              "          [13, 83,  4],\n",
              "          [91, 59, 67]],\n",
              " \n",
              "         [[ 7, 49, 47],\n",
              "          [65, 61, 14],\n",
              "          [55, 71, 80]],\n",
              " \n",
              "         [[ 2, 94, 19],\n",
              "          [98, 63, 53],\n",
              "          [27, 56, 30]]],\n",
              " \n",
              " \n",
              "        [[[48, 47, 39],\n",
              "          [38, 44, 18],\n",
              "          [64, 56, 34]],\n",
              " \n",
              "         [[53, 74, 17],\n",
              "          [72, 13, 30],\n",
              "          [17, 53, 68]],\n",
              " \n",
              "         [[50, 91, 91],\n",
              "          [83, 53, 78],\n",
              "          [ 0, 13, 57]]]]), 4)"
            ]
          },
          "metadata": {
            "tags": []
          },
          "execution_count": 134
        }
      ]
    },
    {
      "cell_type": "code",
      "metadata": {
        "id": "1DeYeLx2Mczb",
        "colab_type": "code",
        "colab": {
          "base_uri": "https://localhost:8080/",
          "height": 106
        },
        "outputId": "d7e1ea35-47db-472e-e9b0-b5d18880abcf"
      },
      "source": [
        "#accessing the 2nd last matrix\n",
        "d[1,1,:,:]"
      ],
      "execution_count": 135,
      "outputs": [
        {
          "output_type": "execute_result",
          "data": {
            "text/plain": [
              "array([[53, 74, 17],\n",
              "       [72, 13, 30],\n",
              "       [17, 53, 68]])"
            ]
          },
          "metadata": {
            "tags": []
          },
          "execution_count": 88
        },
        {
          "output_type": "execute_result",
          "data": {
            "text/plain": [
              "array([[53, 74, 17],\n",
              "       [72, 13, 30],\n",
              "       [17, 53, 68]])"
            ]
          },
          "metadata": {
            "tags": []
          },
          "execution_count": 135
        }
      ]
    },
    {
      "cell_type": "code",
      "metadata": {
        "id": "ei4S3uTWMwv6",
        "colab_type": "code",
        "colab": {
          "base_uri": "https://localhost:8080/",
          "height": 248
        },
        "outputId": "b1100135-d0c3-4027-f38f-ec7da45c58db"
      },
      "source": [
        "## Get the first 4 elements of innner arrays row wise\n",
        "d[:,:,0,:]"
      ],
      "execution_count": 136,
      "outputs": [
        {
          "output_type": "execute_result",
          "data": {
            "text/plain": [
              "array([[[ 4, 31,  1],\n",
              "        [ 7, 49, 47],\n",
              "        [ 2, 94, 19]],\n",
              "\n",
              "       [[48, 47, 39],\n",
              "        [53, 74, 17],\n",
              "        [50, 91, 91]]])"
            ]
          },
          "metadata": {
            "tags": []
          },
          "execution_count": 89
        },
        {
          "output_type": "execute_result",
          "data": {
            "text/plain": [
              "array([[[ 4, 31,  1],\n",
              "        [ 7, 49, 47],\n",
              "        [ 2, 94, 19]],\n",
              "\n",
              "       [[48, 47, 39],\n",
              "        [53, 74, 17],\n",
              "        [50, 91, 91]]])"
            ]
          },
          "metadata": {
            "tags": []
          },
          "execution_count": 136
        }
      ]
    },
    {
      "cell_type": "code",
      "metadata": {
        "id": "MitpwF4pM9Hr",
        "colab_type": "code",
        "colab": {
          "base_uri": "https://localhost:8080/",
          "height": 248
        },
        "outputId": "21e95205-f250-48f0-a4eb-4783a07890f8"
      },
      "source": [
        "##  Get the  4 elements of innner arrays column wise\n",
        "d[:,:,:,0]"
      ],
      "execution_count": 137,
      "outputs": [
        {
          "output_type": "execute_result",
          "data": {
            "text/plain": [
              "array([[[ 4, 13, 91],\n",
              "        [ 7, 65, 55],\n",
              "        [ 2, 98, 27]],\n",
              "\n",
              "       [[48, 38, 64],\n",
              "        [53, 72, 17],\n",
              "        [50, 83,  0]]])"
            ]
          },
          "metadata": {
            "tags": []
          },
          "execution_count": 90
        },
        {
          "output_type": "execute_result",
          "data": {
            "text/plain": [
              "array([[[ 4, 13, 91],\n",
              "        [ 7, 65, 55],\n",
              "        [ 2, 98, 27]],\n",
              "\n",
              "       [[48, 38, 64],\n",
              "        [53, 72, 17],\n",
              "        [50, 83,  0]]])"
            ]
          },
          "metadata": {
            "tags": []
          },
          "execution_count": 137
        }
      ]
    },
    {
      "cell_type": "code",
      "metadata": {
        "id": "TUSk4tBaNM3s",
        "colab_type": "code",
        "colab": {}
      },
      "source": [
        ""
      ],
      "execution_count": 0,
      "outputs": []
    },
    {
      "cell_type": "markdown",
      "metadata": {
        "id": "tI8o7MYyNU_v",
        "colab_type": "text"
      },
      "source": [
        "# Manipulating and comparing arrays\n",
        "-------------------------------------\n",
        "\n",
        "1. Use Python's methods (sum()) on Python datatypes and use NumPy's methods on NumPy arrays (np.sum()).\n",
        "\n",
        "2.  Standard deviation and variance are measures of 'spread' of data.The higher standard deviation and the higher variance of data, the more spread out the values are.\n",
        "\n",
        "The lower standard deviation and lower variance, \n",
        "the less spread out the values are.\n",
        "\n",
        "    2.1. Standard deviation = a measure of how spread out a group of numbers is from the mean\n",
        "\n",
        "    2.2.  Variance = measure of the average degree to which each number is different to the mean\n",
        "\n",
        "    Higher variance = wider range of numbers \n",
        "\n",
        "    Lower variance = lower range of numbers\n",
        "\n"
      ]
    },
    {
      "cell_type": "code",
      "metadata": {
        "id": "DEyIq-OxNY7b",
        "colab_type": "code",
        "colab": {
          "base_uri": "https://localhost:8080/",
          "height": 35
        },
        "outputId": "293085d9-3b83-4afd-ca4d-fbe4d8c533ad"
      },
      "source": [
        "d=np.ones(3)\n",
        "a,d"
      ],
      "execution_count": 138,
      "outputs": [
        {
          "output_type": "execute_result",
          "data": {
            "text/plain": [
              "(array([1, 2, 3]), array([1., 1., 1.]))"
            ]
          },
          "metadata": {
            "tags": []
          },
          "execution_count": 91
        },
        {
          "output_type": "execute_result",
          "data": {
            "text/plain": [
              "(array([1, 2, 3]), array([1., 1., 1.]))"
            ]
          },
          "metadata": {
            "tags": []
          },
          "execution_count": 138
        }
      ]
    },
    {
      "cell_type": "code",
      "metadata": {
        "id": "Vxt8nvMqRTiH",
        "colab_type": "code",
        "colab": {
          "base_uri": "https://localhost:8080/",
          "height": 212
        },
        "outputId": "8bb9e706-bfe2-490c-c8c4-e819a5585a58"
      },
      "source": [
        "#addition,subtraction,multipication,division,floor_div\n",
        "a+d,a-d,a*d,a/d,a//d,a**2"
      ],
      "execution_count": 139,
      "outputs": [
        {
          "output_type": "execute_result",
          "data": {
            "text/plain": [
              "(array([2., 3., 4.]),\n",
              " array([0., 1., 2.]),\n",
              " array([1., 2., 3.]),\n",
              " array([1., 2., 3.]),\n",
              " array([1., 2., 3.]),\n",
              " array([1, 4, 9]))"
            ]
          },
          "metadata": {
            "tags": []
          },
          "execution_count": 92
        },
        {
          "output_type": "execute_result",
          "data": {
            "text/plain": [
              "(array([2., 3., 4.]),\n",
              " array([0., 1., 2.]),\n",
              " array([1., 2., 3.]),\n",
              " array([1., 2., 3.]),\n",
              " array([1., 2., 3.]),\n",
              " array([1, 4, 9]))"
            ]
          },
          "metadata": {
            "tags": []
          },
          "execution_count": 139
        }
      ]
    },
    {
      "cell_type": "code",
      "metadata": {
        "id": "m60ERu5HRwun",
        "colab_type": "code",
        "colab": {
          "base_uri": "https://localhost:8080/",
          "height": 177
        },
        "outputId": "bd843e4b-db57-4121-8020-b503d5d149a7"
      },
      "source": [
        "## same operation using np. way\n",
        "np.add(a,d),np.subtract(a,d),np.multiply(a,d),np.divide(a,d),np.floor_divide(a,d)"
      ],
      "execution_count": 140,
      "outputs": [
        {
          "output_type": "execute_result",
          "data": {
            "text/plain": [
              "(array([2., 3., 4.]),\n",
              " array([0., 1., 2.]),\n",
              " array([1., 2., 3.]),\n",
              " array([1., 2., 3.]),\n",
              " array([1., 2., 3.]))"
            ]
          },
          "metadata": {
            "tags": []
          },
          "execution_count": 93
        },
        {
          "output_type": "execute_result",
          "data": {
            "text/plain": [
              "(array([2., 3., 4.]),\n",
              " array([0., 1., 2.]),\n",
              " array([1., 2., 3.]),\n",
              " array([1., 2., 3.]),\n",
              " array([1., 2., 3.]))"
            ]
          },
          "metadata": {
            "tags": []
          },
          "execution_count": 140
        }
      ]
    },
    {
      "cell_type": "code",
      "metadata": {
        "id": "UzYfg9uuSR9r",
        "colab_type": "code",
        "colab": {
          "base_uri": "https://localhost:8080/",
          "height": 106
        },
        "outputId": "18bed20e-d9eb-445b-cd33-7c055fd62dc6"
      },
      "source": [
        "np.exp(a),np.log(a),np.mod(a,d)"
      ],
      "execution_count": 141,
      "outputs": [
        {
          "output_type": "execute_result",
          "data": {
            "text/plain": [
              "(array([ 2.71828183,  7.3890561 , 20.08553692]),\n",
              " array([0.        , 0.69314718, 1.09861229]),\n",
              " array([0., 0., 0.]))"
            ]
          },
          "metadata": {
            "tags": []
          },
          "execution_count": 94
        },
        {
          "output_type": "execute_result",
          "data": {
            "text/plain": [
              "(array([ 2.71828183,  7.3890561 , 20.08553692]),\n",
              " array([0.        , 0.69314718, 1.09861229]),\n",
              " array([0., 0., 0.]))"
            ]
          },
          "metadata": {
            "tags": []
          },
          "execution_count": 141
        }
      ]
    },
    {
      "cell_type": "code",
      "metadata": {
        "id": "nvcM67KnSjgH",
        "colab_type": "code",
        "colab": {
          "base_uri": "https://localhost:8080/",
          "height": 35
        },
        "outputId": "fd058d14-e365-45ab-a20c-b9c30e7467cd"
      },
      "source": [
        "#maxium and minium element and their index position by argmax an argmin\n",
        "a,np.max(a),np.min(a),np.argmax(a),np.argmin(a)"
      ],
      "execution_count": 142,
      "outputs": [
        {
          "output_type": "execute_result",
          "data": {
            "text/plain": [
              "(array([1, 2, 3]), 3, 1, 2, 0)"
            ]
          },
          "metadata": {
            "tags": []
          },
          "execution_count": 95
        },
        {
          "output_type": "execute_result",
          "data": {
            "text/plain": [
              "(array([1, 2, 3]), 3, 1, 2, 0)"
            ]
          },
          "metadata": {
            "tags": []
          },
          "execution_count": 142
        }
      ]
    },
    {
      "cell_type": "code",
      "metadata": {
        "id": "HmyGuusqS0el",
        "colab_type": "code",
        "colab": {
          "base_uri": "https://localhost:8080/",
          "height": 35
        },
        "outputId": "126b4d01-7b9e-4b73-a0f0-ae6eb70ec781"
      },
      "source": [
        "#mean,median,variance,std.deviation,percentile\n",
        "np.mean(a),np.median(a),np.var(a),np.std(a),np.percentile(a,90)"
      ],
      "execution_count": 143,
      "outputs": [
        {
          "output_type": "execute_result",
          "data": {
            "text/plain": [
              "(2.0, 2.0, 0.6666666666666666, 0.816496580927726, 2.8000000000000003)"
            ]
          },
          "metadata": {
            "tags": []
          },
          "execution_count": 96
        },
        {
          "output_type": "execute_result",
          "data": {
            "text/plain": [
              "(2.0, 2.0, 0.6666666666666666, 0.816496580927726, 2.8000000000000003)"
            ]
          },
          "metadata": {
            "tags": []
          },
          "execution_count": 143
        }
      ]
    },
    {
      "cell_type": "code",
      "metadata": {
        "id": "GnDMqGw2TOdH",
        "colab_type": "code",
        "colab": {}
      },
      "source": [
        ""
      ],
      "execution_count": 0,
      "outputs": []
    },
    {
      "cell_type": "markdown",
      "metadata": {
        "id": "W0EE5sJ1y9xN",
        "colab_type": "text"
      },
      "source": [
        "# reshaping and Transposing\n",
        "---------------------------------"
      ]
    },
    {
      "cell_type": "code",
      "metadata": {
        "id": "xViiSi1PzApj",
        "colab_type": "code",
        "colab": {
          "base_uri": "https://localhost:8080/",
          "height": 35
        },
        "outputId": "c06d86fc-bda4-422e-d6da-30664b014e60"
      },
      "source": [
        "b.reshape((1,9))"
      ],
      "execution_count": 144,
      "outputs": [
        {
          "output_type": "execute_result",
          "data": {
            "text/plain": [
              "array([[ 2, 33, 44, 55, 66, 77,  1,  2,  3]])"
            ]
          },
          "metadata": {
            "tags": []
          },
          "execution_count": 97
        },
        {
          "output_type": "execute_result",
          "data": {
            "text/plain": [
              "array([[ 2, 33, 44, 55, 66, 77,  1,  2,  3]])"
            ]
          },
          "metadata": {
            "tags": []
          },
          "execution_count": 144
        }
      ]
    },
    {
      "cell_type": "code",
      "metadata": {
        "id": "GreRr2DfzBwl",
        "colab_type": "code",
        "colab": {
          "base_uri": "https://localhost:8080/",
          "height": 319
        },
        "outputId": "669c0898-65d7-46e9-d288-d4df0d5a2a3c"
      },
      "source": [
        "b.reshape((9,1))"
      ],
      "execution_count": 145,
      "outputs": [
        {
          "output_type": "execute_result",
          "data": {
            "text/plain": [
              "array([[ 2],\n",
              "       [33],\n",
              "       [44],\n",
              "       [55],\n",
              "       [66],\n",
              "       [77],\n",
              "       [ 1],\n",
              "       [ 2],\n",
              "       [ 3]])"
            ]
          },
          "metadata": {
            "tags": []
          },
          "execution_count": 98
        },
        {
          "output_type": "execute_result",
          "data": {
            "text/plain": [
              "array([[ 2],\n",
              "       [33],\n",
              "       [44],\n",
              "       [55],\n",
              "       [66],\n",
              "       [77],\n",
              "       [ 1],\n",
              "       [ 2],\n",
              "       [ 3]])"
            ]
          },
          "metadata": {
            "tags": []
          },
          "execution_count": 145
        }
      ]
    },
    {
      "cell_type": "code",
      "metadata": {
        "id": "errSNeiLzRFD",
        "colab_type": "code",
        "colab": {
          "base_uri": "https://localhost:8080/",
          "height": 35
        },
        "outputId": "d1f23564-385a-4556-bb10-fe37093a5332"
      },
      "source": [
        "#transposing\n",
        "b.reshape((9,1)).T"
      ],
      "execution_count": 146,
      "outputs": [
        {
          "output_type": "execute_result",
          "data": {
            "text/plain": [
              "array([[ 2, 33, 44, 55, 66, 77,  1,  2,  3]])"
            ]
          },
          "metadata": {
            "tags": []
          },
          "execution_count": 99
        },
        {
          "output_type": "execute_result",
          "data": {
            "text/plain": [
              "array([[ 2, 33, 44, 55, 66, 77,  1,  2,  3]])"
            ]
          },
          "metadata": {
            "tags": []
          },
          "execution_count": 146
        }
      ]
    },
    {
      "cell_type": "code",
      "metadata": {
        "id": "tXxrn_gNzSOZ",
        "colab_type": "code",
        "colab": {
          "base_uri": "https://localhost:8080/",
          "height": 319
        },
        "outputId": "b9e2c874-e281-4d1f-9b74-dc137923bd69"
      },
      "source": [
        "b.reshape((1,9)).transpose()"
      ],
      "execution_count": 147,
      "outputs": [
        {
          "output_type": "execute_result",
          "data": {
            "text/plain": [
              "array([[ 2],\n",
              "       [33],\n",
              "       [44],\n",
              "       [55],\n",
              "       [66],\n",
              "       [77],\n",
              "       [ 1],\n",
              "       [ 2],\n",
              "       [ 3]])"
            ]
          },
          "metadata": {
            "tags": []
          },
          "execution_count": 100
        },
        {
          "output_type": "execute_result",
          "data": {
            "text/plain": [
              "array([[ 2],\n",
              "       [33],\n",
              "       [44],\n",
              "       [55],\n",
              "       [66],\n",
              "       [77],\n",
              "       [ 1],\n",
              "       [ 2],\n",
              "       [ 3]])"
            ]
          },
          "metadata": {
            "tags": []
          },
          "execution_count": 147
        }
      ]
    },
    {
      "cell_type": "markdown",
      "metadata": {
        "id": "HKDxaDQ9zkDn",
        "colab_type": "text"
      },
      "source": [
        "Dot Product\n",
        "---------------------------------"
      ]
    },
    {
      "cell_type": "code",
      "metadata": {
        "id": "C7_FN3HOzoID",
        "colab_type": "code",
        "colab": {
          "base_uri": "https://localhost:8080/",
          "height": 106
        },
        "outputId": "73c652ed-a256-4185-b45f-fa578b2df04c"
      },
      "source": [
        "m1=np.random.randint(10,20,(3,3))\n",
        "m2=np.full((3,3),100)\n",
        "m1,m2"
      ],
      "execution_count": 150,
      "outputs": [
        {
          "output_type": "execute_result",
          "data": {
            "text/plain": [
              "(array([[14, 14, 15],\n",
              "        [17, 16, 16],\n",
              "        [12, 14, 12]]), array([[100, 100, 100],\n",
              "        [100, 100, 100],\n",
              "        [100, 100, 100]]))"
            ]
          },
          "metadata": {
            "tags": []
          },
          "execution_count": 150
        }
      ]
    },
    {
      "cell_type": "code",
      "metadata": {
        "id": "KtfFYWEWzv-j",
        "colab_type": "code",
        "colab": {
          "base_uri": "https://localhost:8080/",
          "height": 70
        },
        "outputId": "081f4201-92e9-4881-c91e-b15b1822b72b"
      },
      "source": [
        "m1*m2 #element wise multipication"
      ],
      "execution_count": 151,
      "outputs": [
        {
          "output_type": "execute_result",
          "data": {
            "text/plain": [
              "array([[1400, 1400, 1500],\n",
              "       [1700, 1600, 1600],\n",
              "       [1200, 1400, 1200]])"
            ]
          },
          "metadata": {
            "tags": []
          },
          "execution_count": 151
        }
      ]
    },
    {
      "cell_type": "code",
      "metadata": {
        "id": "4HAoQlx__2Kd",
        "colab_type": "code",
        "colab": {
          "base_uri": "https://localhost:8080/",
          "height": 70
        },
        "outputId": "c14ca3fe-0bc3-4a52-ab09-2df82888e549"
      },
      "source": [
        "np.multiply(m1,m2) #same"
      ],
      "execution_count": 152,
      "outputs": [
        {
          "output_type": "execute_result",
          "data": {
            "text/plain": [
              "array([[1400, 1400, 1500],\n",
              "       [1700, 1600, 1600],\n",
              "       [1200, 1400, 1200]])"
            ]
          },
          "metadata": {
            "tags": []
          },
          "execution_count": 152
        }
      ]
    },
    {
      "cell_type": "code",
      "metadata": {
        "id": "fpKvNvJO__z6",
        "colab_type": "code",
        "colab": {
          "base_uri": "https://localhost:8080/",
          "height": 70
        },
        "outputId": "823177b7-f01a-4045-ed68-eb7f9417fb34"
      },
      "source": [
        "m1@m2 #matrix multipication ,sames as matmul"
      ],
      "execution_count": 153,
      "outputs": [
        {
          "output_type": "execute_result",
          "data": {
            "text/plain": [
              "array([[4300, 4300, 4300],\n",
              "       [4900, 4900, 4900],\n",
              "       [3800, 3800, 3800]])"
            ]
          },
          "metadata": {
            "tags": []
          },
          "execution_count": 153
        }
      ]
    },
    {
      "cell_type": "code",
      "metadata": {
        "id": "CReizR0HATX2",
        "colab_type": "code",
        "colab": {
          "base_uri": "https://localhost:8080/",
          "height": 70
        },
        "outputId": "cba3fbc9-3d39-4c71-dd81-1a680abe8cf0"
      },
      "source": [
        "np.matmul(m1,m2)"
      ],
      "execution_count": 155,
      "outputs": [
        {
          "output_type": "execute_result",
          "data": {
            "text/plain": [
              "array([[4300, 4300, 4300],\n",
              "       [4900, 4900, 4900],\n",
              "       [3800, 3800, 3800]])"
            ]
          },
          "metadata": {
            "tags": []
          },
          "execution_count": 155
        }
      ]
    },
    {
      "cell_type": "code",
      "metadata": {
        "id": "aJh988KcAbIW",
        "colab_type": "code",
        "colab": {}
      },
      "source": [
        ""
      ],
      "execution_count": 0,
      "outputs": []
    },
    {
      "cell_type": "code",
      "metadata": {
        "id": "WeU4DVoHGWlw",
        "colab_type": "code",
        "colab": {}
      },
      "source": [
        "# for dim > 3, how dot product happens\n",
        "fourbyfour = np.array([\n",
        "                       [1,2,3,4],\n",
        "                       [3,2,1,4],\n",
        "                       [5,4,6,7],\n",
        "                       [11,12,13,14]\n",
        "                      ])\n",
        "\n",
        "\n",
        "twobyfourbythree = np.array([\n",
        "                             [[2,3],[11,9],[32,21],[28,17]],\n",
        "                             [[2,3],[1,9],[3,21],[28,7]],\n",
        "                             [[2,3],[1,9],[3,21],[28,7]],\n",
        "                            ])"
      ],
      "execution_count": 0,
      "outputs": []
    },
    {
      "cell_type": "code",
      "metadata": {
        "id": "m8TSjnQLGXXM",
        "colab_type": "code",
        "colab": {
          "base_uri": "https://localhost:8080/",
          "height": 35
        },
        "outputId": "46163d4f-5722-4dbe-aeba-990777ecbb0e"
      },
      "source": [
        "fourbyfour.shape,twobyfourbythree.shape"
      ],
      "execution_count": 157,
      "outputs": [
        {
          "output_type": "execute_result",
          "data": {
            "text/plain": [
              "((4, 4), (3, 4, 2))"
            ]
          },
          "metadata": {
            "tags": []
          },
          "execution_count": 157
        }
      ]
    },
    {
      "cell_type": "code",
      "metadata": {
        "id": "Hjo1oEKgGcm2",
        "colab_type": "code",
        "colab": {
          "base_uri": "https://localhost:8080/",
          "height": 35
        },
        "outputId": "94a722f3-920d-4e57-d2d6-bdaf8120cb45"
      },
      "source": [
        "res=np.dot(fourbyfour,twobyfourbythree)\n",
        "res.shape"
      ],
      "execution_count": 158,
      "outputs": [
        {
          "output_type": "execute_result",
          "data": {
            "text/plain": [
              "(4, 3, 2)"
            ]
          },
          "metadata": {
            "tags": []
          },
          "execution_count": 158
        }
      ]
    },
    {
      "cell_type": "code",
      "metadata": {
        "id": "PUa2FlGXGmUT",
        "colab_type": "code",
        "colab": {
          "base_uri": "https://localhost:8080/",
          "height": 284
        },
        "outputId": "f58a7f7a-9ce1-426e-b500-d5f5fa7b3555"
      },
      "source": [
        "res"
      ],
      "execution_count": 159,
      "outputs": [
        {
          "output_type": "execute_result",
          "data": {
            "text/plain": [
              "array([[[232, 152],\n",
              "        [125, 112],\n",
              "        [125, 112]],\n",
              "\n",
              "       [[172, 116],\n",
              "        [123,  76],\n",
              "        [123,  76]],\n",
              "\n",
              "       [[442, 296],\n",
              "        [228, 226],\n",
              "        [228, 226]],\n",
              "\n",
              "       [[962, 652],\n",
              "        [465, 512],\n",
              "        [465, 512]]])"
            ]
          },
          "metadata": {
            "tags": []
          },
          "execution_count": 159
        }
      ]
    },
    {
      "cell_type": "markdown",
      "metadata": {
        "id": "X-PwcV6gJMxg",
        "colab_type": "text"
      },
      "source": [
        "**dot product vs matmul** [link](https://stackoverflow.com/q/34142485/12210002)\n",
        "\n",
        "1. for 1-d, dot product is same as inner product a*b\n",
        "2. for 2-d, dot product is same as matmul or @ i.e matrix multipication\n",
        "3. for dimension>2, it's evaluation process changes.(see the link and [doc](https://docs.scipy.org/doc/numpy/reference/generated/numpy.dot.html))\n",
        "\n",
        "\n",
        "\n",
        "> np.dot(a,b)= sum(last axis of a * 2nd last axis of b)\n",
        "\n",
        "\n"
      ]
    },
    {
      "cell_type": "code",
      "metadata": {
        "id": "j4W3lBFVGomj",
        "colab_type": "code",
        "colab": {
          "base_uri": "https://localhost:8080/",
          "height": 35
        },
        "outputId": "2844eace-459b-4170-887a-505ffa3610aa"
      },
      "source": [
        "vec1 = np.array([1, 2, 3])\n",
        "vec2 = np.array([3, 2, 1])\n",
        "\n",
        "#dot product\n",
        "vec1*vec2, np.dot(vec1,vec2)"
      ],
      "execution_count": 160,
      "outputs": [
        {
          "output_type": "execute_result",
          "data": {
            "text/plain": [
              "(array([3, 4, 3]), 10)"
            ]
          },
          "metadata": {
            "tags": []
          },
          "execution_count": 160
        }
      ]
    },
    {
      "cell_type": "code",
      "metadata": {
        "id": "msKR2fNsKUsV",
        "colab_type": "code",
        "colab": {}
      },
      "source": [
        ""
      ],
      "execution_count": 0,
      "outputs": []
    },
    {
      "cell_type": "markdown",
      "metadata": {
        "id": "-FEYbQcyNtC3",
        "colab_type": "text"
      },
      "source": [
        "# Sorting the arrays"
      ]
    },
    {
      "cell_type": "code",
      "metadata": {
        "id": "-yvb8rZTNump",
        "colab_type": "code",
        "colab": {
          "base_uri": "https://localhost:8080/",
          "height": 177
        },
        "outputId": "036e35aa-7660-4f5e-e2bf-b244e013a8c3"
      },
      "source": [
        "b,c"
      ],
      "execution_count": 162,
      "outputs": [
        {
          "output_type": "execute_result",
          "data": {
            "text/plain": [
              "(array([[ 2, 33, 44],\n",
              "        [55, 66, 77],\n",
              "        [ 1,  2,  3]]), array([[[1, 2, 3],\n",
              "         [4, 5, 6],\n",
              "         [7, 8, 9]],\n",
              " \n",
              "        [[1, 1, 1],\n",
              "         [2, 2, 2],\n",
              "         [3, 3, 3]]]))"
            ]
          },
          "metadata": {
            "tags": []
          },
          "execution_count": 162
        }
      ]
    },
    {
      "cell_type": "code",
      "metadata": {
        "id": "WFpVVDC0Nv-C",
        "colab_type": "code",
        "colab": {
          "base_uri": "https://localhost:8080/",
          "height": 177
        },
        "outputId": "49093646-6a91-4963-acda-5bd51d93af52"
      },
      "source": [
        "np.sort(b),np.sort(c)"
      ],
      "execution_count": 167,
      "outputs": [
        {
          "output_type": "execute_result",
          "data": {
            "text/plain": [
              "(array([[ 2, 33, 44],\n",
              "        [55, 66, 77],\n",
              "        [ 1,  2,  3]]), array([[[1, 2, 3],\n",
              "         [4, 5, 6],\n",
              "         [7, 8, 9]],\n",
              " \n",
              "        [[1, 1, 1],\n",
              "         [2, 2, 2],\n",
              "         [3, 3, 3]]]))"
            ]
          },
          "metadata": {
            "tags": []
          },
          "execution_count": 167
        }
      ]
    },
    {
      "cell_type": "code",
      "metadata": {
        "id": "7k4H3P1qNzOT",
        "colab_type": "code",
        "colab": {
          "base_uri": "https://localhost:8080/",
          "height": 70
        },
        "outputId": "4602bddc-5d50-44de-d45f-1fc74ce5e125"
      },
      "source": [
        "np.argsort(a),np.argsort(b)"
      ],
      "execution_count": 168,
      "outputs": [
        {
          "output_type": "execute_result",
          "data": {
            "text/plain": [
              "(array([0, 1, 2]), array([[0, 1, 2],\n",
              "        [0, 1, 2],\n",
              "        [0, 1, 2]]))"
            ]
          },
          "metadata": {
            "tags": []
          },
          "execution_count": 168
        }
      ]
    },
    {
      "cell_type": "code",
      "metadata": {
        "id": "GUkesU-BOHRw",
        "colab_type": "code",
        "colab": {
          "base_uri": "https://localhost:8080/",
          "height": 35
        },
        "outputId": "9419cfe3-b6a2-4740-d2cc-2cf30a65dd2d"
      },
      "source": [
        "#maxium and index of maxium element\n",
        "np.max(b),np.argmax(b)"
      ],
      "execution_count": 169,
      "outputs": [
        {
          "output_type": "execute_result",
          "data": {
            "text/plain": [
              "(77, 5)"
            ]
          },
          "metadata": {
            "tags": []
          },
          "execution_count": 169
        }
      ]
    },
    {
      "cell_type": "code",
      "metadata": {
        "id": "ilqw4lVcOX1p",
        "colab_type": "code",
        "colab": {}
      },
      "source": [
        ""
      ],
      "execution_count": 0,
      "outputs": []
    },
    {
      "cell_type": "markdown",
      "metadata": {
        "id": "Y2V92oKoOctQ",
        "colab_type": "text"
      },
      "source": [
        "## Practical Example"
      ]
    },
    {
      "cell_type": "code",
      "metadata": {
        "id": "sI1m_19TOerT",
        "colab_type": "code",
        "colab": {}
      },
      "source": [
        "\n",
        "# Turn an image into a NumPy array\n",
        "from matplotlib.image import imread"
      ],
      "execution_count": 0,
      "outputs": []
    },
    {
      "cell_type": "code",
      "metadata": {
        "id": "L0GfgwoMPDrf",
        "colab_type": "code",
        "colab": {
          "base_uri": "https://localhost:8080/",
          "height": 35
        },
        "outputId": "56d0b04e-c8e6-451f-b850-d07a6d471c63"
      },
      "source": [
        "panda = imread(\"numpy-panda.png\")\n",
        "print(type(panda))"
      ],
      "execution_count": 175,
      "outputs": [
        {
          "output_type": "stream",
          "text": [
            "<class 'numpy.ndarray'>\n"
          ],
          "name": "stdout"
        }
      ]
    },
    {
      "cell_type": "code",
      "metadata": {
        "id": "6PeFWP_hPPQ1",
        "colab_type": "code",
        "colab": {}
      },
      "source": [
        ""
      ],
      "execution_count": 0,
      "outputs": []
    }
  ]
}