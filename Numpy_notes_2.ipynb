{
  "nbformat": 4,
  "nbformat_minor": 0,
  "metadata": {
    "colab": {
      "name": "Numpy-notes-2.ipynb",
      "provenance": [],
      "authorship_tag": "ABX9TyPyGyB81i2b3bDlibyzWQNo",
      "include_colab_link": true
    },
    "kernelspec": {
      "name": "python3",
      "display_name": "Python 3"
    }
  },
  "cells": [
    {
      "cell_type": "markdown",
      "metadata": {
        "id": "view-in-github",
        "colab_type": "text"
      },
      "source": [
        "<a href=\"https://colab.research.google.com/github/teddcp/numpy-notes/blob/master/Numpy_notes_2.ipynb\" target=\"_parent\"><img src=\"https://colab.research.google.com/assets/colab-badge.svg\" alt=\"Open In Colab\"/></a>"
      ]
    },
    {
      "cell_type": "markdown",
      "metadata": {
        "id": "KI1PTp2xnMFn",
        "colab_type": "text"
      },
      "source": [
        "**Numpy Tutorial**\n",
        "\n",
        "\n",
        "---\n",
        "\n",
        "\n",
        "\n"
      ]
    },
    {
      "cell_type": "code",
      "metadata": {
        "id": "_0CBuzjynI3g",
        "colab_type": "code",
        "colab": {}
      },
      "source": [
        ""
      ],
      "execution_count": 0,
      "outputs": []
    },
    {
      "cell_type": "code",
      "metadata": {
        "id": "kfp_l3YWpo4O",
        "colab_type": "code",
        "colab": {}
      },
      "source": [
        ""
      ],
      "execution_count": 0,
      "outputs": []
    },
    {
      "cell_type": "code",
      "metadata": {
        "id": "o5QPAynuppHD",
        "colab_type": "code",
        "colab": {}
      },
      "source": [
        ""
      ],
      "execution_count": 0,
      "outputs": []
    },
    {
      "cell_type": "code",
      "metadata": {
        "id": "v3KcrJoHppMO",
        "colab_type": "code",
        "colab": {}
      },
      "source": [
        ""
      ],
      "execution_count": 0,
      "outputs": []
    },
    {
      "cell_type": "markdown",
      "metadata": {
        "id": "_Ukx-Jt5rIa_",
        "colab_type": "text"
      },
      "source": [
        "Differece between list and numpy\n",
        "\n",
        "To be discussed ...."
      ]
    },
    {
      "cell_type": "code",
      "metadata": {
        "id": "XzWAPL73ppP8",
        "colab_type": "code",
        "colab": {}
      },
      "source": [
        "import numpy as np"
      ],
      "execution_count": 0,
      "outputs": []
    },
    {
      "cell_type": "code",
      "metadata": {
        "id": "oYKSYT4bpswn",
        "colab_type": "code",
        "outputId": "9561a3eb-1f98-4038-a6da-3ae5aef4cef5",
        "colab": {
          "base_uri": "https://localhost:8080/",
          "height": 34
        }
      },
      "source": [
        "np.__version__      # GETTING THE VERSION OF NUMPY"
      ],
      "execution_count": 0,
      "outputs": [
        {
          "output_type": "execute_result",
          "data": {
            "text/plain": [
              "'1.18.3'"
            ]
          },
          "metadata": {
            "tags": []
          },
          "execution_count": 3
        }
      ]
    },
    {
      "cell_type": "code",
      "metadata": {
        "id": "b5sXYEWSh32b",
        "colab_type": "code",
        "outputId": "dc6c36e8-134d-43c1-c014-efdff070bffb",
        "colab": {
          "base_uri": "https://localhost:8080/",
          "height": 263
        }
      },
      "source": [
        "#@ creating a 1-d numpy array /vector\n",
        "a=np.array([1,2,3])\n",
        "print('\\n',a)\n",
        "\n",
        "#@ creating a 2-d numpy array\n",
        "b=np.array([ [2,3,4],\n",
        "             [4,5,6],\n",
        "             [2,2,2]\n",
        "           ])\n",
        "print('\\n',b)\n",
        "\n",
        "#@ creating a 3-d numpy array\n",
        "c=np.array([ [\n",
        "              [1,2,4],\n",
        "              [3,5,7]\n",
        "             ],\n",
        "             [\n",
        "              [7,8,9],\n",
        "              [10,11,13]\n",
        "             ] \n",
        "           ])\n",
        "print('\\n',c)\n",
        "print('\\n',type(c))"
      ],
      "execution_count": 0,
      "outputs": [
        {
          "output_type": "stream",
          "text": [
            "\n",
            " [1 2 3]\n",
            "\n",
            " [[2 3 4]\n",
            " [4 5 6]\n",
            " [2 2 2]]\n",
            "\n",
            " [[[ 1  2  4]\n",
            "  [ 3  5  7]]\n",
            "\n",
            " [[ 7  8  9]\n",
            "  [10 11 13]]]\n",
            "\n",
            " <class 'numpy.ndarray'>\n"
          ],
          "name": "stdout"
        }
      ]
    },
    {
      "cell_type": "markdown",
      "metadata": {
        "id": "DPRJgzjQkKwT",
        "colab_type": "text"
      },
      "source": [
        "# 2. we can get the **below details** from an numpy array i.e **ndarray**. \n",
        "\n",
        "1.  shape : array.shape\n",
        "2.  dimension : array.ndim\n",
        "3.  size : array.Size\n",
        "4.  datatype: array.dtype\n",
        "5.  nbytes : array.nbytes\n",
        "\n",
        "**for **1-dim**, shape returns the length of array as tuple"
      ]
    },
    {
      "cell_type": "code",
      "metadata": {
        "id": "Tv6GmhAsjmGv",
        "colab_type": "code",
        "outputId": "37d263ea-1b87-4522-8d35-232b53c0d3d5",
        "colab": {
          "base_uri": "https://localhost:8080/",
          "height": 122
        }
      },
      "source": [
        "# getting the shape of arrays\n",
        "print(a.shape,b.shape,c.shape)\n",
        "\n",
        "#getting the dimension\n",
        "print(a.ndim,b.ndim,c.ndim)\n",
        "\n",
        "#getting the size\n",
        "print(a.size,b.size,c.size)\n",
        "\n",
        "#getting the datatype\n",
        "print(a.dtype,b.dtype,c.dtype)\n",
        "\n",
        "#getting the total bytes of the array\n",
        "print(a.nbytes,b.nbytes,c.nbytes)\n",
        "\n",
        "#getting itemsize of each element of an array\n",
        "print(a.itemsize)"
      ],
      "execution_count": 0,
      "outputs": [
        {
          "output_type": "stream",
          "text": [
            "(3,) (3, 3) (2, 2, 3)\n",
            "1 2 3\n",
            "3 9 12\n",
            "int64 int64 int64\n",
            "24 72 96\n",
            "8\n"
          ],
          "name": "stdout"
        }
      ]
    },
    {
      "cell_type": "markdown",
      "metadata": {
        "id": "LK5TGCuap0Mb",
        "colab_type": "text"
      },
      "source": [
        "# 3. reshape() vs resize()\n",
        "\n",
        "> reshape vs resize\n",
        "\n",
        "reshape does not change the original array while resize does\n",
        "\n"
      ]
    },
    {
      "cell_type": "code",
      "metadata": {
        "id": "LUtNa3yyp8cr",
        "colab_type": "code",
        "outputId": "ed7f42bf-6843-48db-9d01-be3c2b80b75f",
        "colab": {
          "base_uri": "https://localhost:8080/",
          "height": 34
        }
      },
      "source": [
        "b.reshape(1,9)"
      ],
      "execution_count": 0,
      "outputs": [
        {
          "output_type": "execute_result",
          "data": {
            "text/plain": [
              "array([[2, 3, 4, 4, 5, 6, 2, 2, 2]])"
            ]
          },
          "metadata": {
            "tags": []
          },
          "execution_count": 6
        }
      ]
    },
    {
      "cell_type": "code",
      "metadata": {
        "id": "nOxIfse6qHrn",
        "colab_type": "code",
        "outputId": "6cb9a356-5307-4ec3-d713-46a573e8d3ae",
        "colab": {
          "base_uri": "https://localhost:8080/",
          "height": 70
        }
      },
      "source": [
        "b   # while b did not get changed..."
      ],
      "execution_count": 0,
      "outputs": [
        {
          "output_type": "execute_result",
          "data": {
            "text/plain": [
              "array([[2, 3, 4],\n",
              "       [4, 5, 6],\n",
              "       [2, 2, 2]])"
            ]
          },
          "metadata": {
            "tags": []
          },
          "execution_count": 7
        }
      ]
    },
    {
      "cell_type": "code",
      "metadata": {
        "id": "GFhctjm-qI4n",
        "colab_type": "code",
        "colab": {}
      },
      "source": [
        "b.resize(1,9)"
      ],
      "execution_count": 0,
      "outputs": []
    },
    {
      "cell_type": "code",
      "metadata": {
        "id": "h5_9dtjvqUJo",
        "colab_type": "code",
        "outputId": "17e385d7-f00c-43fd-b032-a637a55ef4bd",
        "colab": {
          "base_uri": "https://localhost:8080/",
          "height": 34
        }
      },
      "source": [
        "b,b.ndim  #b did get changed..."
      ],
      "execution_count": 0,
      "outputs": [
        {
          "output_type": "execute_result",
          "data": {
            "text/plain": [
              "(array([[2, 3, 4, 4, 5, 6, 2, 2, 2]]), 2)"
            ]
          },
          "metadata": {
            "tags": []
          },
          "execution_count": 9
        }
      ]
    },
    {
      "cell_type": "code",
      "metadata": {
        "id": "wpjB1Ak0qVQH",
        "colab_type": "code",
        "outputId": "ec492c66-a4ce-4a76-a940-5b0831768bdf",
        "colab": {
          "base_uri": "https://localhost:8080/",
          "height": 70
        }
      },
      "source": [
        "# getting back to the original size\n",
        "b.resize(3,3)\n",
        "b"
      ],
      "execution_count": 0,
      "outputs": [
        {
          "output_type": "execute_result",
          "data": {
            "text/plain": [
              "array([[2, 3, 4],\n",
              "       [4, 5, 6],\n",
              "       [2, 2, 2]])"
            ]
          },
          "metadata": {
            "tags": []
          },
          "execution_count": 10
        }
      ]
    },
    {
      "cell_type": "markdown",
      "metadata": {
        "id": "RKGe6rSxqrvY",
        "colab_type": "text"
      },
      "source": [
        "# 4. converting list/tuple to numpy array"
      ]
    },
    {
      "cell_type": "code",
      "metadata": {
        "id": "R6mQow-MqgIY",
        "colab_type": "code",
        "outputId": "1c309356-0c38-4cea-8093-2f1cdb2eb477",
        "colab": {
          "base_uri": "https://localhost:8080/",
          "height": 87
        }
      },
      "source": [
        "l=[1,2,43]\n",
        "print(l,type(l))\n",
        "\n",
        "demo=np.array(l)\n",
        "print(demo,type(demo))\n",
        "\n",
        "demo=(4,5,6)\n",
        "print(demo,type(demo))\n",
        "print(np.array(demo), type(demo))"
      ],
      "execution_count": 0,
      "outputs": [
        {
          "output_type": "stream",
          "text": [
            "[1, 2, 43] <class 'list'>\n",
            "[ 1  2 43] <class 'numpy.ndarray'>\n",
            "(4, 5, 6) <class 'tuple'>\n",
            "[4 5 6] <class 'tuple'>\n"
          ],
          "name": "stdout"
        }
      ]
    },
    {
      "cell_type": "markdown",
      "metadata": {
        "id": "YriUiiptChCp",
        "colab_type": "text"
      },
      "source": [
        "# 5. change the datatype\n",
        "\n",
        "a.dtype"
      ]
    },
    {
      "cell_type": "code",
      "metadata": {
        "id": "uXo-nHicrBSm",
        "colab_type": "code",
        "outputId": "ea472887-bf66-477e-f394-4695ee3a1620",
        "colab": {
          "base_uri": "https://localhost:8080/",
          "height": 34
        }
      },
      "source": [
        "a.dtype"
      ],
      "execution_count": 0,
      "outputs": [
        {
          "output_type": "execute_result",
          "data": {
            "text/plain": [
              "dtype('int64')"
            ]
          },
          "metadata": {
            "tags": []
          },
          "execution_count": 12
        }
      ]
    },
    {
      "cell_type": "code",
      "metadata": {
        "id": "2b38vHN5Cn_H",
        "colab_type": "code",
        "outputId": "8d1f34a7-24cd-46bb-e30d-515ac4e0866b",
        "colab": {
          "base_uri": "https://localhost:8080/",
          "height": 34
        }
      },
      "source": [
        "a.dtype='int'\n",
        "a"
      ],
      "execution_count": 0,
      "outputs": [
        {
          "output_type": "execute_result",
          "data": {
            "text/plain": [
              "array([1, 2, 3])"
            ]
          },
          "metadata": {
            "tags": []
          },
          "execution_count": 17
        }
      ]
    },
    {
      "cell_type": "markdown",
      "metadata": {
        "id": "d2dJYYw3DCN7",
        "colab_type": "text"
      },
      "source": [
        "\n",
        "\n",
        "1.   np.zeros(size_tuple,dtype),\n",
        "     np.zeros_like(array_ref,dtype)\n",
        "\n",
        "2.   np.ones(size_tuple,dtype)\n",
        "     np.ones_like(array_ref,dtype)\n",
        "\n",
        "3.   np.full(size_tuple,dtype,fill_value)\n",
        "     np.full_like(tuple_size,fill_value,dtype)\n",
        "\n",
        "4.   np.arange(start,end,step) #end is excluded\n",
        "\n",
        "     (evenly spaced elements between a and b)\n",
        "5.   np.linspace(a,b,number_of_values) \n",
        "\n",
        "6.   np.random.random(size_tuple)) \n",
        "     \n",
        "     np.random.rand(row_sz,col_sz)\n",
        "\n",
        "    creates a uniformly distributed values between 0 and 1\n",
        "\n",
        "7.  np.random.uniform(low,high,size_tuple)\n",
        "    \n",
        "    creates a uniformed distribution between low and high of specified size\n",
        "\n",
        "8. np.random.normal(mean,std_dev,size_tuple) \n",
        "   \n",
        "   np.random.randn(row_sz,col_sz)\n",
        "\n",
        "    creates a normal distribution of specified mean and stanard deviation\n",
        "\n",
        "9.  np.random.randint(start,end,size_tuple)\n",
        "\n",
        "    creates a random intervals with specified size  in the interval of [a,b)\n",
        "\n",
        "10. np.eye(size) : creates an identitiy function of sizeXsize\n",
        "\n",
        "11. np.empty(size) : \n",
        "    \n",
        "    Create an uninitialized array of specified size and The values will be  whatever happens to already exist at that memory location \n",
        " "
      ]
    },
    {
      "cell_type": "code",
      "metadata": {
        "id": "sWaxggL5C092",
        "colab_type": "code",
        "outputId": "8f0b5dde-b7ac-469b-fa45-77223e16ccb4",
        "colab": {
          "base_uri": "https://localhost:8080/",
          "height": 140
        }
      },
      "source": [
        "#zeros matrix\n",
        "print(np.zeros(10,dtype='int'))\n",
        "print(np.zeros((3,2),dtype='int'))\n",
        "print(np.zeros_like(b,dtype='float'))"
      ],
      "execution_count": 0,
      "outputs": [
        {
          "output_type": "stream",
          "text": [
            "[0 0 0 0 0 0 0 0 0 0]\n",
            "[[0 0]\n",
            " [0 0]\n",
            " [0 0]]\n",
            "[[0. 0. 0.]\n",
            " [0. 0. 0.]\n",
            " [0. 0. 0.]]\n"
          ],
          "name": "stdout"
        }
      ]
    },
    {
      "cell_type": "code",
      "metadata": {
        "id": "v-Dd25V_XySc",
        "colab_type": "code",
        "outputId": "bf36f19d-5a2d-4add-c709-6ac6ac11ffcf",
        "colab": {
          "base_uri": "https://localhost:8080/",
          "height": 140
        }
      },
      "source": [
        "# ones matrix\n",
        "print(np.ones(10,dtype='int'))\n",
        "print(np.ones((3,2),dtype='int'))\n",
        "print(np.ones_like(b,dtype='float'))"
      ],
      "execution_count": 0,
      "outputs": [
        {
          "output_type": "stream",
          "text": [
            "[1 1 1 1 1 1 1 1 1 1]\n",
            "[[1 1]\n",
            " [1 1]\n",
            " [1 1]]\n",
            "[[1. 1. 1.]\n",
            " [1. 1. 1.]\n",
            " [1. 1. 1.]]\n"
          ],
          "name": "stdout"
        }
      ]
    },
    {
      "cell_type": "code",
      "metadata": {
        "id": "G4qhJYH_X-4O",
        "colab_type": "code",
        "outputId": "ae5f4dc7-42b3-41a7-bff5-1b8921c545a7",
        "colab": {
          "base_uri": "https://localhost:8080/",
          "height": 140
        }
      },
      "source": [
        "# full matrix\n",
        "print(np.full(10,fill_value=10))\n",
        "print(np.full((3,2),dtype='int',fill_value=100))\n",
        "print(np.full_like(b,dtype='float',fill_value=90))"
      ],
      "execution_count": 0,
      "outputs": [
        {
          "output_type": "stream",
          "text": [
            "[10 10 10 10 10 10 10 10 10 10]\n",
            "[[100 100]\n",
            " [100 100]\n",
            " [100 100]]\n",
            "[[90. 90. 90.]\n",
            " [90. 90. 90.]\n",
            " [90. 90. 90.]]\n"
          ],
          "name": "stdout"
        }
      ]
    },
    {
      "cell_type": "code",
      "metadata": {
        "id": "55KacpGCYF_f",
        "colab_type": "code",
        "outputId": "7b898fda-a18b-416f-f2e4-e693be67fa65",
        "colab": {
          "base_uri": "https://localhost:8080/",
          "height": 105
        }
      },
      "source": [
        "#identity matrix\n",
        "np.eye(5)"
      ],
      "execution_count": 0,
      "outputs": [
        {
          "output_type": "execute_result",
          "data": {
            "text/plain": [
              "array([[1., 0., 0., 0., 0.],\n",
              "       [0., 1., 0., 0., 0.],\n",
              "       [0., 0., 1., 0., 0.],\n",
              "       [0., 0., 0., 1., 0.],\n",
              "       [0., 0., 0., 0., 1.]])"
            ]
          },
          "metadata": {
            "tags": []
          },
          "execution_count": 31
        }
      ]
    },
    {
      "cell_type": "code",
      "metadata": {
        "id": "oZJnnDbyf50C",
        "colab_type": "code",
        "outputId": "5f899947-c969-467f-b8b5-21246b84f4ea",
        "colab": {
          "base_uri": "https://localhost:8080/",
          "height": 70
        }
      },
      "source": [
        "np.eye(3,4)"
      ],
      "execution_count": 0,
      "outputs": [
        {
          "output_type": "execute_result",
          "data": {
            "text/plain": [
              "array([[1., 0., 0., 0.],\n",
              "       [0., 1., 0., 0.],\n",
              "       [0., 0., 1., 0.]])"
            ]
          },
          "metadata": {
            "tags": []
          },
          "execution_count": 33
        }
      ]
    },
    {
      "cell_type": "code",
      "metadata": {
        "id": "FCNPE5a3f-Fa",
        "colab_type": "code",
        "outputId": "4771f704-1b9b-447c-8edd-23760156b96d",
        "colab": {
          "base_uri": "https://localhost:8080/",
          "height": 70
        }
      },
      "source": [
        "#random arrays\n",
        "np.random.seed(42)\n",
        "np.random.randint(10,20,(3,4))"
      ],
      "execution_count": 0,
      "outputs": [
        {
          "output_type": "execute_result",
          "data": {
            "text/plain": [
              "array([[16, 13, 17, 14],\n",
              "       [16, 19, 12, 16],\n",
              "       [17, 14, 13, 17]])"
            ]
          },
          "metadata": {
            "tags": []
          },
          "execution_count": 35
        }
      ]
    },
    {
      "cell_type": "code",
      "metadata": {
        "id": "_xcy1lCUgNjq",
        "colab_type": "code",
        "outputId": "55ccdf1d-a531-4c53-9493-851ea04439af",
        "colab": {
          "base_uri": "https://localhost:8080/",
          "height": 87
        }
      },
      "source": [
        "np.random.seed(100)\n",
        "np.random.rand(4,2)"
      ],
      "execution_count": 0,
      "outputs": [
        {
          "output_type": "execute_result",
          "data": {
            "text/plain": [
              "array([[0.54340494, 0.27836939],\n",
              "       [0.42451759, 0.84477613],\n",
              "       [0.00471886, 0.12156912],\n",
              "       [0.67074908, 0.82585276]])"
            ]
          },
          "metadata": {
            "tags": []
          },
          "execution_count": 36
        }
      ]
    },
    {
      "cell_type": "code",
      "metadata": {
        "id": "L133eUhbgT9Z",
        "colab_type": "code",
        "outputId": "9aa68c85-b73e-4783-fdbb-4954a40a0c70",
        "colab": {
          "base_uri": "https://localhost:8080/",
          "height": 87
        }
      },
      "source": [
        "np.random.randn(4,3)"
      ],
      "execution_count": 0,
      "outputs": [
        {
          "output_type": "execute_result",
          "data": {
            "text/plain": [
              "array([[ 0.22117967, -1.07004333, -0.18949583],\n",
              "       [ 0.25500144, -0.45802699,  0.43516349],\n",
              "       [-0.58359505,  0.81684707,  0.67272081],\n",
              "       [-0.10441114, -0.53128038,  1.02973269]])"
            ]
          },
          "metadata": {
            "tags": []
          },
          "execution_count": 37
        }
      ]
    },
    {
      "cell_type": "code",
      "metadata": {
        "id": "FDKgo9i3gaPa",
        "colab_type": "code",
        "colab": {}
      },
      "source": [
        ""
      ],
      "execution_count": 0,
      "outputs": []
    },
    {
      "cell_type": "code",
      "metadata": {
        "id": "fPhAXjIhhZxP",
        "colab_type": "code",
        "colab": {}
      },
      "source": [
        ""
      ],
      "execution_count": 0,
      "outputs": []
    },
    {
      "cell_type": "code",
      "metadata": {
        "id": "U-QKgZIjhZ34",
        "colab_type": "code",
        "colab": {}
      },
      "source": [
        ""
      ],
      "execution_count": 0,
      "outputs": []
    },
    {
      "cell_type": "code",
      "metadata": {
        "id": "JirYMHUShaDY",
        "colab_type": "code",
        "colab": {}
      },
      "source": [
        ""
      ],
      "execution_count": 0,
      "outputs": []
    },
    {
      "cell_type": "code",
      "metadata": {
        "id": "pwqjfJpPhaHB",
        "colab_type": "code",
        "outputId": "f26efa8c-fd7a-4116-f629-b70a4b2a6971",
        "colab": {
          "base_uri": "https://localhost:8080/",
          "height": 34
        }
      },
      "source": [
        "demo=np.arange(2,10)\n",
        "demo"
      ],
      "execution_count": 0,
      "outputs": [
        {
          "output_type": "execute_result",
          "data": {
            "text/plain": [
              "array([2, 3, 4, 5, 6, 7, 8, 9])"
            ]
          },
          "metadata": {
            "tags": []
          },
          "execution_count": 38
        }
      ]
    },
    {
      "cell_type": "code",
      "metadata": {
        "id": "fswgUfMkhaAv",
        "colab_type": "code",
        "outputId": "1abf2091-b6aa-4523-ff49-29b22ceda3d9",
        "colab": {
          "base_uri": "https://localhost:8080/",
          "height": 34
        }
      },
      "source": [
        "demo[0],demo[-1],demo[3::-1],demo[::-2],demo[1:3],demo[0:4:2]"
      ],
      "execution_count": 0,
      "outputs": [
        {
          "output_type": "execute_result",
          "data": {
            "text/plain": [
              "(2, 9, array([5, 4, 3, 2]), array([9, 7, 5, 3]), array([3, 4]), array([2, 4]))"
            ]
          },
          "metadata": {
            "tags": []
          },
          "execution_count": 41
        }
      ]
    },
    {
      "cell_type": "code",
      "metadata": {
        "id": "5fEfPMePhZ-T",
        "colab_type": "code",
        "colab": {}
      },
      "source": [
        ""
      ],
      "execution_count": 0,
      "outputs": []
    },
    {
      "cell_type": "code",
      "metadata": {
        "id": "IW0Lq0wjhZ71",
        "colab_type": "code",
        "colab": {}
      },
      "source": [
        ""
      ],
      "execution_count": 0,
      "outputs": []
    },
    {
      "cell_type": "code",
      "metadata": {
        "id": "CAYp7GB8hZ0-",
        "colab_type": "code",
        "colab": {}
      },
      "source": [
        ""
      ],
      "execution_count": 0,
      "outputs": []
    }
  ]
}